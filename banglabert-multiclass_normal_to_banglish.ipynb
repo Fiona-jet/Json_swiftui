{
 "cells": [
  {
   "cell_type": "code",
   "execution_count": 1,
   "metadata": {
    "execution": {
     "iopub.execute_input": "2023-09-11T00:26:45.495387Z",
     "iopub.status.busy": "2023-09-11T00:26:45.494943Z",
     "iopub.status.idle": "2023-09-11T00:26:49.450345Z",
     "shell.execute_reply": "2023-09-11T00:26:49.449316Z",
     "shell.execute_reply.started": "2023-09-11T00:26:45.495346Z"
    },
    "id": "2e0f75c3",
    "outputId": "1968999e-09e5-4f8d-fb47-377c1b235879",
    "papermill": {
     "duration": 13.349991,
     "end_time": "2023-07-25T16:06:48.929213",
     "exception": false,
     "start_time": "2023-07-25T16:06:35.579222",
     "status": "completed"
    },
    "tags": [],
    "trusted": true
   },
   "outputs": [],
   "source": [
    "import torch\n",
    "from transformers import AutoTokenizer, AutoModelForSequenceClassification"
   ]
  },
  {
   "cell_type": "code",
   "execution_count": 2,
   "metadata": {
    "execution": {
     "iopub.execute_input": "2023-09-11T00:26:49.453022Z",
     "iopub.status.busy": "2023-09-11T00:26:49.452268Z",
     "iopub.status.idle": "2023-09-11T00:27:04.717405Z",
     "shell.execute_reply": "2023-09-11T00:27:04.716144Z",
     "shell.execute_reply.started": "2023-09-11T00:26:49.452986Z"
    },
    "id": "4913d932",
    "outputId": "5eb3dd9b-5b04-4803-ae2a-b601b8da7ba0",
    "papermill": {
     "duration": 4.173444,
     "end_time": "2023-07-25T16:06:53.106774",
     "exception": false,
     "start_time": "2023-07-25T16:06:48.933330",
     "status": "completed"
    },
    "tags": [],
    "trusted": true
   },
   "outputs": [
    {
     "data": {
      "application/vnd.jupyter.widget-view+json": {
       "model_id": "ca1233c1bc4c4a0c84f6d17667e1bfe6",
       "version_major": 2,
       "version_minor": 0
      },
      "text/plain": [
       "Downloading (…)okenizer_config.json:   0%|          | 0.00/119 [00:00<?, ?B/s]"
      ]
     },
     "metadata": {},
     "output_type": "display_data"
    },
    {
     "data": {
      "application/vnd.jupyter.widget-view+json": {
       "model_id": "1c152d1b1e6542a193f2adfd247a11e3",
       "version_major": 2,
       "version_minor": 0
      },
      "text/plain": [
       "Downloading (…)lve/main/config.json:   0%|          | 0.00/586 [00:00<?, ?B/s]"
      ]
     },
     "metadata": {},
     "output_type": "display_data"
    },
    {
     "data": {
      "application/vnd.jupyter.widget-view+json": {
       "model_id": "8c0c1b02e7754ecab96a8d2083bef112",
       "version_major": 2,
       "version_minor": 0
      },
      "text/plain": [
       "Downloading (…)solve/main/vocab.txt:   0%|          | 0.00/528k [00:00<?, ?B/s]"
      ]
     },
     "metadata": {},
     "output_type": "display_data"
    },
    {
     "data": {
      "application/vnd.jupyter.widget-view+json": {
       "model_id": "2bbffedac8bb44788a01f0536ecb9b1e",
       "version_major": 2,
       "version_minor": 0
      },
      "text/plain": [
       "Downloading (…)cial_tokens_map.json:   0%|          | 0.00/112 [00:00<?, ?B/s]"
      ]
     },
     "metadata": {},
     "output_type": "display_data"
    },
    {
     "name": "stderr",
     "output_type": "stream",
     "text": [
      "/opt/conda/lib/python3.10/site-packages/scipy/__init__.py:146: UserWarning: A NumPy version >=1.16.5 and <1.23.0 is required for this version of SciPy (detected version 1.23.5\n",
      "  warnings.warn(f\"A NumPy version >={np_minversion} and <{np_maxversion}\"\n"
     ]
    },
    {
     "data": {
      "application/vnd.jupyter.widget-view+json": {
       "model_id": "199b2d41ffb84bac939a14f4ddac7998",
       "version_major": 2,
       "version_minor": 0
      },
      "text/plain": [
       "Downloading pytorch_model.bin:   0%|          | 0.00/443M [00:00<?, ?B/s]"
      ]
     },
     "metadata": {},
     "output_type": "display_data"
    },
    {
     "name": "stderr",
     "output_type": "stream",
     "text": [
      "Some weights of ElectraForSequenceClassification were not initialized from the model checkpoint at csebuetnlp/banglabert and are newly initialized: ['classifier.out_proj.weight', 'classifier.dense.bias', 'classifier.dense.weight', 'classifier.out_proj.bias']\n",
      "You should probably TRAIN this model on a down-stream task to be able to use it for predictions and inference.\n"
     ]
    }
   ],
   "source": [
    "model_name = 'csebuetnlp/banglabert'\n",
    "tokenizer = AutoTokenizer.from_pretrained(model_name)\n",
    "model = AutoModelForSequenceClassification.from_pretrained(model_name, num_labels=5)\n",
    "\n",
    "# Define device (CPU or GPU)\n",
    "device = torch.device('cuda' if torch.cuda.is_available() else 'cpu')\n"
   ]
  },
  {
   "cell_type": "code",
   "execution_count": 3,
   "metadata": {
    "execution": {
     "iopub.execute_input": "2023-09-11T00:27:04.719335Z",
     "iopub.status.busy": "2023-09-11T00:27:04.718956Z",
     "iopub.status.idle": "2023-09-11T00:27:05.358360Z",
     "shell.execute_reply": "2023-09-11T00:27:05.357250Z",
     "shell.execute_reply.started": "2023-09-11T00:27:04.719299Z"
    },
    "id": "b0560ae3",
    "papermill": {
     "duration": 0.132745,
     "end_time": "2023-07-25T16:06:53.244675",
     "exception": false,
     "start_time": "2023-07-25T16:06:53.111930",
     "status": "completed"
    },
    "tags": [],
    "trusted": true
   },
   "outputs": [],
   "source": [
    "import pandas as pd\n",
    "train_url = '/kaggle/input/bec-dataset/train_data.csv'\n",
    "test_url = '/kaggle/input/bec-dataset/test_data.csv'\n",
    "df_train = pd.read_csv(train_url)\n",
    "df_test = pd.read_csv(test_url)\n",
    "stop_words_df = pd.read_excel('/kaggle/input/bangla-stopwords/stopwords_bangla.xlsx',index_col=False)"
   ]
  },
  {
   "cell_type": "code",
   "execution_count": 4,
   "metadata": {
    "execution": {
     "iopub.execute_input": "2023-09-11T00:27:05.367523Z",
     "iopub.status.busy": "2023-09-11T00:27:05.364716Z",
     "iopub.status.idle": "2023-09-11T00:27:05.380655Z",
     "shell.execute_reply": "2023-09-11T00:27:05.379694Z",
     "shell.execute_reply.started": "2023-09-11T00:27:05.367483Z"
    },
    "tags": [],
    "trusted": true
   },
   "outputs": [],
   "source": [
    "STOPWORDS = set([word.strip() for word in stop_words_df['words']])"
   ]
  },
  {
   "cell_type": "code",
   "execution_count": 5,
   "metadata": {
    "execution": {
     "iopub.execute_input": "2023-09-11T00:27:05.388260Z",
     "iopub.status.busy": "2023-09-11T00:27:05.385379Z",
     "iopub.status.idle": "2023-09-11T00:27:05.476153Z",
     "shell.execute_reply": "2023-09-11T00:27:05.475185Z",
     "shell.execute_reply.started": "2023-09-11T00:27:05.388215Z"
    },
    "tags": [],
    "trusted": true
   },
   "outputs": [],
   "source": [
    "import re\n",
    "def preprocess(x):\n",
    "    html_pattern = re.compile('<.*?>')\n",
    "    x = html_pattern.sub(r'', x)\n",
    "    x = \" \".join([word for word in str(x).split() if word not in STOPWORDS])\n",
    "    return x\n",
    "df_train['Comment'] = df_train['Comment'].apply(lambda x: preprocess(x))\n",
    "df_test['Comment'] = df_test['Comment'].apply(lambda x:preprocess(x))"
   ]
  },
  {
   "cell_type": "code",
   "execution_count": 6,
   "metadata": {
    "execution": {
     "iopub.execute_input": "2023-09-11T00:27:05.483085Z",
     "iopub.status.busy": "2023-09-11T00:27:05.480725Z",
     "iopub.status.idle": "2023-09-11T00:27:05.497229Z",
     "shell.execute_reply": "2023-09-11T00:27:05.495939Z",
     "shell.execute_reply.started": "2023-09-11T00:27:05.483052Z"
    },
    "tags": [],
    "trusted": true
   },
   "outputs": [
    {
     "data": {
      "text/plain": [
       "{'Code Switching', 'Grammatical', 'Multiple Errors', 'Spelling'}"
      ]
     },
     "execution_count": 6,
     "metadata": {},
     "output_type": "execute_result"
    }
   ],
   "source": [
    "import numpy as np\n",
    "allcats = set(df_train['Category'].dropna().tolist())\n",
    "allcats"
   ]
  },
  {
   "cell_type": "code",
   "execution_count": 7,
   "metadata": {
    "execution": {
     "iopub.execute_input": "2023-09-11T00:27:05.503774Z",
     "iopub.status.busy": "2023-09-11T00:27:05.501568Z",
     "iopub.status.idle": "2023-09-11T00:27:05.514427Z",
     "shell.execute_reply": "2023-09-11T00:27:05.513487Z",
     "shell.execute_reply.started": "2023-09-11T00:27:05.503744Z"
    },
    "tags": [],
    "trusted": true
   },
   "outputs": [
    {
     "data": {
      "text/plain": [
       "{'Grammatical': 0,\n",
       " 'Spelling': 1,\n",
       " 'Correct': 2,\n",
       " 'Multiple Errors': 3,\n",
       " 'Code Switching': 4}"
      ]
     },
     "execution_count": 7,
     "metadata": {},
     "output_type": "execute_result"
    }
   ],
   "source": [
    "allcats.add('Correct')\n",
    "labeldict = {}\n",
    "counter = 0\n",
    "for i in allcats:\n",
    "    labeldict[i] = counter\n",
    "    counter += 1\n",
    "labeldict"
   ]
  },
  {
   "cell_type": "code",
   "execution_count": 8,
   "metadata": {
    "execution": {
     "iopub.execute_input": "2023-09-11T00:27:05.522183Z",
     "iopub.status.busy": "2023-09-11T00:27:05.519692Z",
     "iopub.status.idle": "2023-09-11T00:27:05.546060Z",
     "shell.execute_reply": "2023-09-11T00:27:05.545166Z",
     "shell.execute_reply.started": "2023-09-11T00:27:05.522149Z"
    },
    "tags": [],
    "trusted": true
   },
   "outputs": [],
   "source": [
    "def manage(x):\n",
    "    if x in labeldict:\n",
    "        return labeldict[x]\n",
    "    else:\n",
    "        return labeldict['Correct']\n",
    "df_train['Category'] = df_train['Category'].apply(lambda x:manage(x))\n",
    "df_test['Category'] = df_test['Category'].apply(lambda x:manage(x))"
   ]
  },
  {
   "cell_type": "code",
   "execution_count": 9,
   "metadata": {
    "execution": {
     "iopub.execute_input": "2023-09-11T00:27:05.552715Z",
     "iopub.status.busy": "2023-09-11T00:27:05.550277Z",
     "iopub.status.idle": "2023-09-11T00:27:05.581854Z",
     "shell.execute_reply": "2023-09-11T00:27:05.580651Z",
     "shell.execute_reply.started": "2023-09-11T00:27:05.552679Z"
    },
    "tags": [],
    "trusted": true
   },
   "outputs": [
    {
     "data": {
      "text/html": [
       "<div>\n",
       "<style scoped>\n",
       "    .dataframe tbody tr th:only-of-type {\n",
       "        vertical-align: middle;\n",
       "    }\n",
       "\n",
       "    .dataframe tbody tr th {\n",
       "        vertical-align: top;\n",
       "    }\n",
       "\n",
       "    .dataframe thead th {\n",
       "        text-align: right;\n",
       "    }\n",
       "</style>\n",
       "<table border=\"1\" class=\"dataframe\">\n",
       "  <thead>\n",
       "    <tr style=\"text-align: right;\">\n",
       "      <th></th>\n",
       "      <th>Video Title</th>\n",
       "      <th>Genre</th>\n",
       "      <th>Comment</th>\n",
       "      <th>Error</th>\n",
       "      <th>Category</th>\n",
       "      <th>Correct Form</th>\n",
       "    </tr>\n",
       "  </thead>\n",
       "  <tbody>\n",
       "    <tr>\n",
       "      <th>0</th>\n",
       "      <td>ওবায়দুল কাদের বললেন, ‘খেলা হবে’; আর রুমিন ফারহ...</td>\n",
       "      <td>Politics</td>\n",
       "      <td>কাদের খেলব কাদের খেলতেই না</td>\n",
       "      <td>1</td>\n",
       "      <td>0</td>\n",
       "      <td>কাদের কি খেলবে কাদের তো খেলতেই পারে না</td>\n",
       "    </tr>\n",
       "    <tr>\n",
       "      <th>1</th>\n",
       "      <td>পুলিশের গাড়ির ওপর চড়াও বিএনপির কর্মীরা  | BN...</td>\n",
       "      <td>Politics</td>\n",
       "      <td>এসব আরো ঠাসা</td>\n",
       "      <td>1</td>\n",
       "      <td>1</td>\n",
       "      <td>এসব করে আরো কোণঠাসা  হবে</td>\n",
       "    </tr>\n",
       "    <tr>\n",
       "      <th>2</th>\n",
       "      <td>Ayub Bachchu |  Ek Akash Tara | আইয়ুব বাচ্চু |...</td>\n",
       "      <td>Entertainment</td>\n",
       "      <td>যুগ যুগ গেথে গান</td>\n",
       "      <td>0</td>\n",
       "      <td>2</td>\n",
       "      <td>যুগ যুগ ধরে আমাদের  মনে গেথে থাকবে এ গান</td>\n",
       "    </tr>\n",
       "    <tr>\n",
       "      <th>3</th>\n",
       "      <td>যে প্রেম কাহিনী কোন বাধা মানেনি | BBC Bangla</td>\n",
       "      <td>Miscellaneous</td>\n",
       "      <td>অাচছা অাপু এলাজী থাকলে টিকা জাবেনা</td>\n",
       "      <td>1</td>\n",
       "      <td>1</td>\n",
       "      <td>আচ্ছা আপু এলার্জী থাকলে টিকা নেওয়া যাবেনা</td>\n",
       "    </tr>\n",
       "    <tr>\n",
       "      <th>4</th>\n",
       "      <td>তুরস্কের চেয়ে ভয়াবহ ভূমিকম্পের ঝুঁকিতে বাংলাদে...</td>\n",
       "      <td>News</td>\n",
       "      <td>হে আল্লাহ জালিমদের সন্তান সন্তদের হেফাজত</td>\n",
       "      <td>0</td>\n",
       "      <td>2</td>\n",
       "      <td>হে আল্লাহ এই জালিমদের থেকে আমাদের সন্তান সন্তদ...</td>\n",
       "    </tr>\n",
       "    <tr>\n",
       "      <th>...</th>\n",
       "      <td>...</td>\n",
       "      <td>...</td>\n",
       "      <td>...</td>\n",
       "      <td>...</td>\n",
       "      <td>...</td>\n",
       "      <td>...</td>\n",
       "    </tr>\n",
       "    <tr>\n",
       "      <th>8027</th>\n",
       "      <td>Shitom Ahmed - Chorabali (Lyrics) || কেন লাগে ...</td>\n",
       "      <td>Entertainment</td>\n",
       "      <td>সত্যি শুন্য লাগে</td>\n",
       "      <td>0</td>\n",
       "      <td>2</td>\n",
       "      <td>সত্যি তাকে ছাড়া খুব শুন্য লাগে</td>\n",
       "    </tr>\n",
       "    <tr>\n",
       "      <th>8028</th>\n",
       "      <td>হৃদয় ছুঁয়ে যাওয়া ৭টি সেরা ইমোশনাল বিজ্ঞাপন ...</td>\n",
       "      <td>Entertainment</td>\n",
       "      <td>বিজ্ঞাপন গুলো চোখে পানি আসলো ভাই</td>\n",
       "      <td>0</td>\n",
       "      <td>2</td>\n",
       "      <td>বিজ্ঞাপন গুলো দেখে চোখে পানি চলে আসলো ভাই</td>\n",
       "    </tr>\n",
       "    <tr>\n",
       "      <th>8029</th>\n",
       "      <td>আইপিএলের নিলাম তালিকায় পাঁচ বাংলাদেশি | IPL | ...</td>\n",
       "      <td>Sports</td>\n",
       "      <td>টাকা সবদিক</td>\n",
       "      <td>1</td>\n",
       "      <td>1</td>\n",
       "      <td>একবার যখন টাকা হয় তখন সব দিক দিয়ে আসে</td>\n",
       "    </tr>\n",
       "    <tr>\n",
       "      <th>8030</th>\n",
       "      <td>মাহমুদুল্লাহর সেরা ১০টি ইনিংস || 10 Greatest I...</td>\n",
       "      <td>Sports</td>\n",
       "      <td>অসাধারণ ইউটিউব ভিডিও সাথে চমৎকার ব্যাকগ্রাউন্ড</td>\n",
       "      <td>0</td>\n",
       "      <td>2</td>\n",
       "      <td>আমার দেখা অসাধারণ ইউটিউব ভিডিও তার সাথে চমৎকার...</td>\n",
       "    </tr>\n",
       "    <tr>\n",
       "      <th>8031</th>\n",
       "      <td>Ural Debo Akashe | উড়াল দেব আকাশে | Ayub Bachc...</td>\n",
       "      <td>Entertainment</td>\n",
       "      <td>উড়াল দেব আকাশে</td>\n",
       "      <td>0</td>\n",
       "      <td>2</td>\n",
       "      <td>উড়াল দেব আকাশে</td>\n",
       "    </tr>\n",
       "  </tbody>\n",
       "</table>\n",
       "<p>8032 rows × 6 columns</p>\n",
       "</div>"
      ],
      "text/plain": [
       "                                            Video Title          Genre  \\\n",
       "0     ওবায়দুল কাদের বললেন, ‘খেলা হবে’; আর রুমিন ফারহ...       Politics   \n",
       "1     পুলিশের গাড়ির ওপর চড়াও বিএনপির কর্মীরা  | BN...       Politics   \n",
       "2     Ayub Bachchu |  Ek Akash Tara | আইয়ুব বাচ্চু |...  Entertainment   \n",
       "3         যে প্রেম কাহিনী কোন বাধা মানেনি | BBC Bangla  Miscellaneous   \n",
       "4     তুরস্কের চেয়ে ভয়াবহ ভূমিকম্পের ঝুঁকিতে বাংলাদে...           News   \n",
       "...                                                 ...            ...   \n",
       "8027  Shitom Ahmed - Chorabali (Lyrics) || কেন লাগে ...  Entertainment   \n",
       "8028  হৃদয় ছুঁয়ে যাওয়া ৭টি সেরা ইমোশনাল বিজ্ঞাপন ...  Entertainment   \n",
       "8029  আইপিএলের নিলাম তালিকায় পাঁচ বাংলাদেশি | IPL | ...         Sports   \n",
       "8030  মাহমুদুল্লাহর সেরা ১০টি ইনিংস || 10 Greatest I...         Sports   \n",
       "8031  Ural Debo Akashe | উড়াল দেব আকাশে | Ayub Bachc...  Entertainment   \n",
       "\n",
       "                                             Comment  Error  Category  \\\n",
       "0                         কাদের খেলব কাদের খেলতেই না      1         0   \n",
       "1                                       এসব আরো ঠাসা      1         1   \n",
       "2                                   যুগ যুগ গেথে গান      0         2   \n",
       "3                 অাচছা অাপু এলাজী থাকলে টিকা জাবেনা      1         1   \n",
       "4           হে আল্লাহ জালিমদের সন্তান সন্তদের হেফাজত      0         2   \n",
       "...                                              ...    ...       ...   \n",
       "8027                                সত্যি শুন্য লাগে      0         2   \n",
       "8028                বিজ্ঞাপন গুলো চোখে পানি আসলো ভাই      0         2   \n",
       "8029                                      টাকা সবদিক      1         1   \n",
       "8030  অসাধারণ ইউটিউব ভিডিও সাথে চমৎকার ব্যাকগ্রাউন্ড      0         2   \n",
       "8031                                  উড়াল দেব আকাশে      0         2   \n",
       "\n",
       "                                           Correct Form  \n",
       "0                কাদের কি খেলবে কাদের তো খেলতেই পারে না  \n",
       "1                              এসব করে আরো কোণঠাসা  হবে  \n",
       "2              যুগ যুগ ধরে আমাদের  মনে গেথে থাকবে এ গান  \n",
       "3             আচ্ছা আপু এলার্জী থাকলে টিকা নেওয়া যাবেনা  \n",
       "4     হে আল্লাহ এই জালিমদের থেকে আমাদের সন্তান সন্তদ...  \n",
       "...                                                 ...  \n",
       "8027                     সত্যি তাকে ছাড়া খুব শুন্য লাগে  \n",
       "8028          বিজ্ঞাপন গুলো দেখে চোখে পানি চলে আসলো ভাই  \n",
       "8029            একবার যখন টাকা হয় তখন সব দিক দিয়ে আসে  \n",
       "8030  আমার দেখা অসাধারণ ইউটিউব ভিডিও তার সাথে চমৎকার...  \n",
       "8031                                     উড়াল দেব আকাশে  \n",
       "\n",
       "[8032 rows x 6 columns]"
      ]
     },
     "execution_count": 9,
     "metadata": {},
     "output_type": "execute_result"
    }
   ],
   "source": [
    "df_train"
   ]
  },
  {
   "cell_type": "code",
   "execution_count": 10,
   "metadata": {
    "execution": {
     "iopub.execute_input": "2023-09-11T00:27:05.591332Z",
     "iopub.status.busy": "2023-09-11T00:27:05.588948Z",
     "iopub.status.idle": "2023-09-11T00:27:05.601900Z",
     "shell.execute_reply": "2023-09-11T00:27:05.600794Z",
     "shell.execute_reply.started": "2023-09-11T00:27:05.591300Z"
    },
    "id": "6b9dc3e4",
    "papermill": {
     "duration": 0.018204,
     "end_time": "2023-07-25T16:06:53.268005",
     "exception": false,
     "start_time": "2023-07-25T16:06:53.249801",
     "status": "completed"
    },
    "tags": [],
    "trusted": true
   },
   "outputs": [],
   "source": [
    "data_no = 5\n",
    "\n",
    "# Prepare the training data\n",
    "train_texts = df_train['Comment'].tolist()\n",
    "train_labels = df_train['Category'].tolist()\n",
    "\n",
    "test_texts = df_test['Comment'].tolist()\n",
    "test_labels = df_test['Category'].tolist()"
   ]
  },
  {
   "cell_type": "code",
   "execution_count": 11,
   "metadata": {
    "execution": {
     "iopub.execute_input": "2023-09-11T00:27:05.609869Z",
     "iopub.status.busy": "2023-09-11T00:27:05.606825Z",
     "iopub.status.idle": "2023-09-11T00:27:14.159421Z",
     "shell.execute_reply": "2023-09-11T00:27:14.158374Z",
     "shell.execute_reply.started": "2023-09-11T00:27:05.609804Z"
    },
    "id": "c68abf8e",
    "outputId": "fc006e00-bc36-49f7-9041-3cc6a300504b",
    "papermill": {
     "duration": 11.003131,
     "end_time": "2023-07-25T16:07:04.276102",
     "exception": false,
     "start_time": "2023-07-25T16:06:53.272971",
     "status": "completed"
    },
    "tags": [],
    "trusted": true
   },
   "outputs": [],
   "source": [
    "# Tokenize and encode the training texts\n",
    "train_encodings = tokenizer(train_texts, truncation=True, max_length=128,\n",
    "        padding='max_length', return_tensors = 'pt')\n",
    "\n",
    "# Convert the labels to tensors\n",
    "train_labels = torch.tensor(train_labels)\n",
    "\n",
    "# Create a PyTorch dataset\n",
    "train_dataset = torch.utils.data.TensorDataset(train_encodings['input_ids'],\n",
    "                                               train_encodings['attention_mask'],\n",
    "                                               train_labels)\n",
    "\n",
    "# Create a data loader\n",
    "train_loader = torch.utils.data.DataLoader(train_dataset, batch_size=16, shuffle=True)\n",
    "\n",
    "model = model.to(device)"
   ]
  },
  {
   "cell_type": "code",
   "execution_count": null,
   "metadata": {
    "execution": {
     "iopub.execute_input": "2023-09-11T00:27:14.161347Z",
     "iopub.status.busy": "2023-09-11T00:27:14.160887Z",
     "iopub.status.idle": "2023-09-11T00:41:38.345148Z",
     "shell.execute_reply": "2023-09-11T00:41:38.344171Z",
     "shell.execute_reply.started": "2023-09-11T00:27:14.161313Z"
    },
    "id": "eedb3a9c",
    "outputId": "81f0d82e-5d90-4271-e5cf-71638bf8bc98",
    "papermill": {
     "duration": 668.41198,
     "end_time": "2023-07-25T16:18:12.693572",
     "exception": false,
     "start_time": "2023-07-25T16:07:04.281592",
     "status": "completed"
    },
    "tags": [],
    "trusted": true
   },
   "outputs": [
    {
     "data": {
      "application/vnd.jupyter.widget-view+json": {
       "model_id": "71785f156b3547f4a63307673a5ae15a",
       "version_major": 2,
       "version_minor": 0
      },
      "text/plain": [
       "  0%|          | 0/5 [00:00<?, ?it/s]"
      ]
     },
     "metadata": {},
     "output_type": "display_data"
    },
    {
     "data": {
      "application/vnd.jupyter.widget-view+json": {
       "model_id": "61b472b0dc6b40509acebde6479f47f2",
       "version_major": 2,
       "version_minor": 0
      },
      "text/plain": [
       "  0%|          | 0/502 [00:00<?, ?it/s]"
      ]
     },
     "metadata": {},
     "output_type": "display_data"
    },
    {
     "name": "stdout",
     "output_type": "stream",
     "text": [
      "Epoch 1/5 - Loss: 0.9960 - Accuracy: 0.6662\n"
     ]
    },
    {
     "data": {
      "application/vnd.jupyter.widget-view+json": {
       "model_id": "4cf17cdf308a446dace804f1b12315e8",
       "version_major": 2,
       "version_minor": 0
      },
      "text/plain": [
       "  0%|          | 0/502 [00:00<?, ?it/s]"
      ]
     },
     "metadata": {},
     "output_type": "display_data"
    },
    {
     "name": "stdout",
     "output_type": "stream",
     "text": [
      "Epoch 2/5 - Loss: 0.7520 - Accuracy: 0.7561\n"
     ]
    },
    {
     "data": {
      "application/vnd.jupyter.widget-view+json": {
       "model_id": "296ee158d1d249499f8942419d00e791",
       "version_major": 2,
       "version_minor": 0
      },
      "text/plain": [
       "  0%|          | 0/502 [00:00<?, ?it/s]"
      ]
     },
     "metadata": {},
     "output_type": "display_data"
    },
    {
     "name": "stdout",
     "output_type": "stream",
     "text": [
      "Epoch 3/5 - Loss: 0.6338 - Accuracy: 0.8035\n"
     ]
    },
    {
     "data": {
      "application/vnd.jupyter.widget-view+json": {
       "model_id": "c3d3c493c32d45769d159edecc7d80fc",
       "version_major": 2,
       "version_minor": 0
      },
      "text/plain": [
       "  0%|          | 0/502 [00:00<?, ?it/s]"
      ]
     },
     "metadata": {},
     "output_type": "display_data"
    },
    {
     "name": "stdout",
     "output_type": "stream",
     "text": [
      "Epoch 4/5 - Loss: 0.5295 - Accuracy: 0.8391\n"
     ]
    },
    {
     "data": {
      "application/vnd.jupyter.widget-view+json": {
       "model_id": "e9d6d6bce209420cae3ddbee59aa4284",
       "version_major": 2,
       "version_minor": 0
      },
      "text/plain": [
       "  0%|          | 0/502 [00:00<?, ?it/s]"
      ]
     },
     "metadata": {},
     "output_type": "display_data"
    },
    {
     "name": "stdout",
     "output_type": "stream",
     "text": [
      "Epoch 5/5 - Loss: 0.4349 - Accuracy: 0.8704\n"
     ]
    }
   ],
   "source": [
    "from tqdm.notebook import tqdm\n",
    "import torch\n",
    "import torch.optim as optim\n",
    "import torch.nn as nn\n",
    "from sklearn.metrics import accuracy_score\n",
    "import time\n",
    "\n",
    "# Reset peak GPU memory tracking\n",
    "if torch.cuda.is_available():\n",
    "    torch.cuda.reset_max_memory_allocated()\n",
    "\n",
    "# Set the model to training mode\n",
    "model.train()\n",
    "\n",
    "# Define the optimizer and loss function\n",
    "optimizer = torch.optim.AdamW(model.parameters(), lr=1e-5)\n",
    "loss_fn = torch.nn.CrossEntropyLoss()\n",
    "\n",
    "losses = []\n",
    "accuracies = []  # To store accuracy per epoch\n",
    "num_epochs = 5\n",
    "\n",
    "start_time = time.time()  # Start time before training\n",
    "\n",
    "# Training loop\n",
    "for epoch in tqdm(range(num_epochs)):  # Number of training epochs\n",
    "    running_loss = 0.0\n",
    "    predicted_labels = []  # To store predicted labels for accuracy calculation\n",
    "    true_labels = []  # To store true labels for accuracy calculation\n",
    "\n",
    "    for batch in tqdm(train_loader):\n",
    "        input_ids = batch[0].to(device)\n",
    "        attention_mask = batch[1].to(device)\n",
    "        labels = batch[2].to(device)\n",
    "\n",
    "        optimizer.zero_grad()\n",
    "\n",
    "        outputs = model(input_ids, attention_mask=attention_mask, labels=labels)\n",
    "        loss = outputs.loss\n",
    "        logits = outputs.logits\n",
    "\n",
    "        loss.backward()\n",
    "        optimizer.step()\n",
    "\n",
    "        running_loss += loss.item()\n",
    "\n",
    "        # Convert logits to predicted labels\n",
    "        _, predicted = torch.max(logits, dim=1)\n",
    "        predicted_labels.extend(predicted.cpu().tolist())\n",
    "        true_labels.extend(labels.cpu().tolist())\n",
    "\n",
    "    epoch_loss = running_loss / len(train_loader)\n",
    "    losses.append(epoch_loss)\n",
    "\n",
    "    # Calculate and store accuracy\n",
    "    accuracy = accuracy_score(true_labels, predicted_labels)\n",
    "    accuracies.append(accuracy)\n",
    "\n",
    "    print(f'Epoch {epoch + 1}/{num_epochs} - Loss: {epoch_loss:.4f} - Accuracy: {accuracy:.4f}')\n",
    "    \n",
    "\n",
    "\n",
    "end_time = time.time()  # End time after training\n",
    "total_time = end_time - start_time\n",
    "\n",
    "max_memory = torch.cuda.max_memory_allocated() / 1e9 if torch.cuda.is_available() else 0  # Convert bytes to GB\n",
    "\n",
    "print(\"Witout AMP: \")\n",
    "print(f\"\\nTotal training time: {total_time:.2f} seconds\")\n",
    "if torch.cuda.is_available():\n",
    "    print(f\"Maximum GPU memory allocated: {max_memory:.4f} GB\")\n",
    "else:\n",
    "    print(\"GPU not available, cannot measure GPU memory usage.\")\n",
    "\n",
    "# Save the model\n",
    "torch.save(model.state_dict(), 'model.pth')\n"
   ]
  },
  {
   "cell_type": "code",
   "execution_count": 13,
   "metadata": {
    "execution": {
     "iopub.execute_input": "2023-09-11T00:41:38.347047Z",
     "iopub.status.busy": "2023-09-11T00:41:38.346691Z",
     "iopub.status.idle": "2023-09-11T00:41:38.351852Z",
     "shell.execute_reply": "2023-09-11T00:41:38.350852Z",
     "shell.execute_reply.started": "2023-09-11T00:41:38.347014Z"
    },
    "papermill": {
     "duration": 0.014424,
     "end_time": "2023-07-25T16:18:12.713695",
     "exception": false,
     "start_time": "2023-07-25T16:18:12.699271",
     "status": "completed"
    },
    "tags": [],
    "trusted": true
   },
   "outputs": [],
   "source": [
    "#dgfdgdfgdgffdgdfd1212jhkhk"
   ]
  },
  {
   "cell_type": "code",
   "execution_count": 14,
   "metadata": {
    "execution": {
     "iopub.execute_input": "2023-09-11T00:41:38.354002Z",
     "iopub.status.busy": "2023-09-11T00:41:38.353081Z",
     "iopub.status.idle": "2023-09-11T00:41:38.364850Z",
     "shell.execute_reply": "2023-09-11T00:41:38.363949Z",
     "shell.execute_reply.started": "2023-09-11T00:41:38.353969Z"
    },
    "id": "1243273c",
    "papermill": {
     "duration": 0.69644,
     "end_time": "2023-07-25T16:18:13.415572",
     "exception": false,
     "start_time": "2023-07-25T16:18:12.719132",
     "status": "completed"
    },
    "tags": [],
    "trusted": true
   },
   "outputs": [],
   "source": [
    "from sklearn.metrics import accuracy_score, f1_score, roc_auc_score\n",
    "\n",
    "def predict_labels(text):\n",
    "    train_encodings = tokenizer(text, truncation=True, max_length=128,\n",
    "        padding='max_length', return_tensors = 'pt')\n",
    "    input_ids = train_encodings['input_ids'].to(device)\n",
    "    attention_mask = train_encodings['attention_mask'].to(device)\n",
    "\n",
    "    # Set the model to evaluation mode\n",
    "    model.eval()\n",
    "\n",
    "    # Disable gradient calculation\n",
    "    with torch.no_grad():\n",
    "        outputs = model(input_ids, attention_mask=attention_mask)\n",
    "\n",
    "    logits = outputs.logits\n",
    "    probabilities = torch.softmax(logits, dim=1)\n",
    "    predicted_class = torch.argmax(probabilities, dim=1)\n",
    "    \n",
    "\n",
    "    return predicted_class.item(), probabilities[:,1].item()"
   ]
  },
  {
   "cell_type": "code",
   "execution_count": null,
   "metadata": {
    "execution": {
     "iopub.execute_input": "2023-09-11T00:41:38.366773Z",
     "iopub.status.busy": "2023-09-11T00:41:38.366223Z",
     "iopub.status.idle": "2023-09-11T00:42:10.860832Z",
     "shell.execute_reply": "2023-09-11T00:42:10.859864Z",
     "shell.execute_reply.started": "2023-09-11T00:41:38.366740Z"
    },
    "id": "d57fe764",
    "outputId": "d7e9495a-7096-413f-cc6e-0f3e69cdc327",
    "papermill": {
     "duration": 56.127329,
     "end_time": "2023-07-25T16:19:09.548653",
     "exception": false,
     "start_time": "2023-07-25T16:18:13.421324",
     "status": "completed"
    },
    "tags": [],
    "trusted": true
   },
   "outputs": [
    {
     "data": {
      "application/vnd.jupyter.widget-view+json": {
       "model_id": "b55163d1d5f84618bebecea83575ef76",
       "version_major": 2,
       "version_minor": 0
      },
      "text/plain": [
       "  0%|          | 0/2010 [00:00<?, ?it/s]"
      ]
     },
     "metadata": {},
     "output_type": "display_data"
    },
    {
     "name": "stdout",
     "output_type": "stream",
     "text": [
      "Accuracy: 0.7512437810945274\n"
     ]
    }
   ],
   "source": [
    "predicted_labels = []\n",
    "predicted_probs = []\n",
    "for text in tqdm(test_texts):\n",
    "    predicted_label, prob = predict_labels(text)\n",
    "    predicted_labels.append(predicted_label)\n",
    "    predicted_probs.append(prob)\n",
    "\n",
    "# Calculate accuracy and F1 score\n",
    "accuracy = accuracy_score(test_labels, predicted_labels)\n",
    "# f1 = f1_score(test_labels, predicted_labels)\n",
    "# roc_auc = roc_auc_score(test_labels, predicted_probs)\n",
    "\n",
    "print('Accuracy:', accuracy)\n",
    "# print('F1 Score:', f1)\n",
    "# print('ROC-AUC:', roc_auc)"
   ]
  },
  {
   "cell_type": "code",
   "execution_count": 16,
   "metadata": {
    "execution": {
     "iopub.execute_input": "2023-09-11T00:42:10.863221Z",
     "iopub.status.busy": "2023-09-11T00:42:10.862572Z",
     "iopub.status.idle": "2023-09-11T00:42:10.869020Z",
     "shell.execute_reply": "2023-09-11T00:42:10.867963Z",
     "shell.execute_reply.started": "2023-09-11T00:42:10.863185Z"
    },
    "trusted": true
   },
   "outputs": [
    {
     "name": "stdout",
     "output_type": "stream",
     "text": [
      "Accuracy: 0.7512437810945274\n"
     ]
    }
   ],
   "source": [
    "print('Accuracy:', accuracy)"
   ]
  },
  {
   "cell_type": "code",
   "execution_count": 17,
   "metadata": {
    "execution": {
     "iopub.execute_input": "2023-09-11T00:42:10.871063Z",
     "iopub.status.busy": "2023-09-11T00:42:10.870428Z",
     "iopub.status.idle": "2023-09-11T00:42:10.895215Z",
     "shell.execute_reply": "2023-09-11T00:42:10.893884Z",
     "shell.execute_reply.started": "2023-09-11T00:42:10.871030Z"
    },
    "papermill": {
     "duration": 0.031899,
     "end_time": "2023-07-25T16:19:09.586107",
     "exception": false,
     "start_time": "2023-07-25T16:19:09.554208",
     "status": "completed"
    },
    "tags": [],
    "trusted": true
   },
   "outputs": [
    {
     "name": "stdout",
     "output_type": "stream",
     "text": [
      "\n",
      "The Classification Report is as follows\n",
      "\n",
      "              precision    recall  f1-score   support\n",
      "\n",
      "           0     0.5000    0.2500    0.3333       128\n",
      "           1     0.6710    0.7249    0.6969       498\n",
      "           2     0.8153    0.8583    0.8362      1157\n",
      "           3     0.4762    0.1449    0.2222        69\n",
      "           4     0.6746    0.7215    0.6972       158\n",
      "\n",
      "    accuracy                         0.7512      2010\n",
      "   macro avg     0.6274    0.5399    0.5572      2010\n",
      "weighted avg     0.7367    0.7512    0.7377      2010\n",
      "\n"
     ]
    }
   ],
   "source": [
    "from sklearn.metrics import roc_auc_score, classification_report\n",
    "\n",
    "print('\\nThe Classification Report is as follows\\n')\n",
    "print(classification_report(test_labels, predicted_labels, digits = 4))"
   ]
  },
  {
   "cell_type": "code",
   "execution_count": null,
   "metadata": {},
   "outputs": [],
   "source": [
    "import torch\n",
    "from torch.utils.data import DataLoader, Dataset\n",
    "from transformers import AutoTokenizer\n",
    "import torch.cuda.amp as amp\n",
    "from torch.nn import CrossEntropyLoss\n",
    "from torch.optim import AdamW\n",
    "import time\n",
    "\n",
    "# Define dataset class\n",
    "class BanglaCommentDataset(Dataset):\n",
    "    def __init__(self, comments, labels, tokenizer, max_length=128):\n",
    "        self.comments = comments\n",
    "        self.labels = labels\n",
    "        self.tokenizer = tokenizer\n",
    "        self.max_length = max_length\n",
    "        \n",
    "    def __len__(self):\n",
    "        return len(self.comments)\n",
    "    \n",
    "    def __getitem__(self, idx):\n",
    "        comment = str(self.comments[idx])\n",
    "        label = self.labels[idx]\n",
    "        encoding = self.tokenizer(\n",
    "            comment,\n",
    "            max_length=self.max_length,\n",
    "            padding='max_length',\n",
    "            truncation=True,\n",
    "            return_tensors='pt'\n",
    "        )\n",
    "        item = {\n",
    "            'input_ids': encoding['input_ids'].squeeze(0),\n",
    "            'attention_mask': encoding['attention_mask'].squeeze(0),\n",
    "            'labels': torch.tensor(label, dtype=torch.long)\n",
    "        }\n",
    "        return item\n",
    "\n",
    "# Prepare dataloaders\n",
    "train_dataset = BanglaCommentDataset(df_train['Comment'].tolist(), df_train['Category'].tolist(), tokenizer)\n",
    "train_dataloader = DataLoader(train_dataset, batch_size=16, shuffle=True)\n",
    "\n",
    "# Model, loss, optimizer setup\n",
    "model.to(device)\n",
    "criterion = CrossEntropyLoss()\n",
    "optimizer = AdamW(model.parameters(), lr=5e-5)\n",
    "scaler = amp.GradScaler()  # Initialize GradScaler for mixed precision\n",
    "\n",
    "model.train()\n",
    "num_epochs = 3\n",
    "\n",
    "# Reset peak GPU memory tracking\n",
    "if torch.cuda.is_available():\n",
    "    torch.cuda.reset_max_memory_allocated()\n",
    "\n",
    "start_time = time.time()\n",
    "\n",
    "for epoch in range(num_epochs):\n",
    "    total_loss = 0\n",
    "    for batch in train_dataloader:\n",
    "        input_ids = batch['input_ids'].to(device)\n",
    "        attention_mask = batch['attention_mask'].to(device)\n",
    "        labels = batch['labels'].to(device)\n",
    "\n",
    "        optimizer.zero_grad()\n",
    "\n",
    "        with amp.autocast():  # Mixed precision forward pass\n",
    "            outputs = model(input_ids=input_ids, attention_mask=attention_mask)\n",
    "            logits = outputs.logits\n",
    "            loss = criterion(logits, labels)\n",
    "\n",
    "        scaler.scale(loss).backward()  # Scaled backward pass\n",
    "        scaler.step(optimizer)         # Optimizer step with scaled gradients\n",
    "        scaler.update()                # Update scaler for next iteration\n",
    "\n",
    "        total_loss += loss.item()\n",
    "\n",
    "    avg_loss = total_loss / len(train_dataloader)\n",
    "    print(f\"Epoch {epoch+1}/{num_epochs}, Loss: {avg_loss:.4f}\")\n",
    "\n",
    "end_time = time.time()\n",
    "total_time = end_time - start_time\n",
    "\n",
    "max_memory = torch.cuda.max_memory_allocated() / 1e9  # Convert bytes to GB if using GPU\n",
    "\n",
    "print(\"With AMP: \")\n",
    "print(f\"\\nTotal training time: {total_time:.2f} seconds\")\n",
    "if torch.cuda.is_available():\n",
    "    print(f\"Maximum GPU memory allocated: {max_memory:.4f} GB\")\n",
    "else:\n",
    "    print(\"GPU not available, cannot measure GPU memory usage.\")\n"
   ]
  },
  {
   "cell_type": "code",
   "execution_count": null,
   "metadata": {},
   "outputs": [],
   "source": [
    "from sklearn.metrics import accuracy_score, f1_score, roc_auc_score\n",
    "\n",
    "def predict_labels(text):\n",
    "    train_encodings = tokenizer(text, truncation=True, max_length=128,\n",
    "        padding='max_length', return_tensors = 'pt')\n",
    "    input_ids = train_encodings['input_ids'].to(device)\n",
    "    attention_mask = train_encodings['attention_mask'].to(device)\n",
    "\n",
    "    # Set the model to evaluation mode\n",
    "    model.eval()\n",
    "\n",
    "    # Disable gradient calculation\n",
    "    with torch.no_grad():\n",
    "        outputs = model(input_ids, attention_mask=attention_mask)\n",
    "\n",
    "    logits = outputs.logits\n",
    "    probabilities = torch.softmax(logits, dim=1)\n",
    "    predicted_class = torch.argmax(probabilities, dim=1)\n",
    "    \n",
    "\n",
    "    return predicted_class.item(), probabilities[:,1].item()"
   ]
  },
  {
   "cell_type": "code",
   "execution_count": null,
   "metadata": {},
   "outputs": [],
   "source": [
    "predicted_labels = []\n",
    "predicted_probs = []\n",
    "for text in tqdm(test_texts):\n",
    "    predicted_label, prob = predict_labels(text)\n",
    "    predicted_labels.append(predicted_label)\n",
    "    predicted_probs.append(prob)\n",
    "\n",
    "# Calculate accuracy and F1 score\n",
    "accuracy = accuracy_score(test_labels, predicted_labels)\n",
    "# f1 = f1_score(test_labels, predicted_labels)\n",
    "# roc_auc = roc_auc_score(test_labels, predicted_probs)\n",
    "\n",
    "print('Accuracy:', accuracy)\n",
    "# print('F1 Score:', f1)\n",
    "# print('ROC-AUC:', roc_auc)"
   ]
  },
  {
   "cell_type": "code",
   "execution_count": null,
   "metadata": {},
   "outputs": [],
   "source": [
    "print('Accuracy:', accuracy)"
   ]
  },
  {
   "cell_type": "code",
   "execution_count": null,
   "metadata": {},
   "outputs": [],
   "source": [
    "from sklearn.metrics import roc_auc_score, classification_report\n",
    "\n",
    "print('\\nThe Classification Report is as follows\\n')\n",
    "print(classification_report(test_labels, predicted_labels, digits = 4))"
   ]
  }
 ],
 "metadata": {
  "kernelspec": {
   "display_name": "Python 3",
   "language": "python",
   "name": "python3"
  },
  "language_info": {
   "codemirror_mode": {
    "name": "ipython",
    "version": 3
   },
   "file_extension": ".py",
   "mimetype": "text/x-python",
   "name": "python",
   "nbconvert_exporter": "python",
   "pygments_lexer": "ipython3",
   "version": "3.10.12"
  }
 },
 "nbformat": 4,
 "nbformat_minor": 4
}
