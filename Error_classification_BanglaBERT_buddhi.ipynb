{
 "cells": [
  {
   "cell_type": "code",
   "execution_count": 1,
   "metadata": {
    "execution": {
     "iopub.execute_input": "2023-09-11T00:26:45.495387Z",
     "iopub.status.busy": "2023-09-11T00:26:45.494943Z",
     "iopub.status.idle": "2023-09-11T00:26:49.450345Z",
     "shell.execute_reply": "2023-09-11T00:26:49.449316Z",
     "shell.execute_reply.started": "2023-09-11T00:26:45.495346Z"
    },
    "id": "2e0f75c3",
    "outputId": "1968999e-09e5-4f8d-fb47-377c1b235879",
    "papermill": {
     "duration": 13.349991,
     "end_time": "2023-07-25T16:06:48.929213",
     "exception": false,
     "start_time": "2023-07-25T16:06:35.579222",
     "status": "completed"
    },
    "tags": [],
    "trusted": true
   },
   "outputs": [],
   "source": [
    "import torch\n",
    "from transformers import AutoTokenizer, AutoModelForSequenceClassification"
   ]
  },
  {
   "cell_type": "code",
   "execution_count": 2,
   "metadata": {
    "execution": {
     "iopub.execute_input": "2023-09-11T00:26:49.453022Z",
     "iopub.status.busy": "2023-09-11T00:26:49.452268Z",
     "iopub.status.idle": "2023-09-11T00:27:04.717405Z",
     "shell.execute_reply": "2023-09-11T00:27:04.716144Z",
     "shell.execute_reply.started": "2023-09-11T00:26:49.452986Z"
    },
    "id": "4913d932",
    "outputId": "5eb3dd9b-5b04-4803-ae2a-b601b8da7ba0",
    "papermill": {
     "duration": 4.173444,
     "end_time": "2023-07-25T16:06:53.106774",
     "exception": false,
     "start_time": "2023-07-25T16:06:48.933330",
     "status": "completed"
    },
    "tags": [],
    "trusted": true
   },
   "outputs": [
    {
     "name": "stderr",
     "output_type": "stream",
     "text": [
      "Some weights of ElectraForSequenceClassification were not initialized from the model checkpoint at csebuetnlp/banglabert and are newly initialized: ['classifier.dense.bias', 'classifier.dense.weight', 'classifier.out_proj.bias', 'classifier.out_proj.weight']\n",
      "You should probably TRAIN this model on a down-stream task to be able to use it for predictions and inference.\n"
     ]
    }
   ],
   "source": [
    "model_name = 'csebuetnlp/banglabert'\n",
    "tokenizer = AutoTokenizer.from_pretrained(model_name)\n",
    "model = AutoModelForSequenceClassification.from_pretrained(model_name, num_labels=5)\n",
    "\n",
    "# Define device (CPU or GPU)\n",
    "device = torch.device('cuda' if torch.cuda.is_available() else 'cpu')\n"
   ]
  },
  {
   "cell_type": "code",
   "execution_count": 3,
   "metadata": {
    "execution": {
     "iopub.execute_input": "2023-09-11T00:27:04.719335Z",
     "iopub.status.busy": "2023-09-11T00:27:04.718956Z",
     "iopub.status.idle": "2023-09-11T00:27:05.358360Z",
     "shell.execute_reply": "2023-09-11T00:27:05.357250Z",
     "shell.execute_reply.started": "2023-09-11T00:27:04.719299Z"
    },
    "id": "b0560ae3",
    "papermill": {
     "duration": 0.132745,
     "end_time": "2023-07-25T16:06:53.244675",
     "exception": false,
     "start_time": "2023-07-25T16:06:53.111930",
     "status": "completed"
    },
    "tags": [],
    "trusted": true
   },
   "outputs": [],
   "source": [
    "import pandas as pd\n",
    "train_url = 'train_data.csv'\n",
    "test_url = 'test_data.csv'\n",
    "df_train = pd.read_csv(train_url)\n",
    "df_test = pd.read_csv(test_url)\n",
    "stop_words_df = pd.read_excel('stopwords_bangla.xlsx',index_col=False)"
   ]
  },
  {
   "cell_type": "code",
   "execution_count": 4,
   "metadata": {
    "execution": {
     "iopub.execute_input": "2023-09-11T00:27:05.367523Z",
     "iopub.status.busy": "2023-09-11T00:27:05.364716Z",
     "iopub.status.idle": "2023-09-11T00:27:05.380655Z",
     "shell.execute_reply": "2023-09-11T00:27:05.379694Z",
     "shell.execute_reply.started": "2023-09-11T00:27:05.367483Z"
    },
    "tags": [],
    "trusted": true
   },
   "outputs": [],
   "source": [
    "STOPWORDS = set([word.strip() for word in stop_words_df['words']])"
   ]
  },
  {
   "cell_type": "code",
   "execution_count": 5,
   "metadata": {
    "execution": {
     "iopub.execute_input": "2023-09-11T00:27:05.388260Z",
     "iopub.status.busy": "2023-09-11T00:27:05.385379Z",
     "iopub.status.idle": "2023-09-11T00:27:05.476153Z",
     "shell.execute_reply": "2023-09-11T00:27:05.475185Z",
     "shell.execute_reply.started": "2023-09-11T00:27:05.388215Z"
    },
    "tags": [],
    "trusted": true
   },
   "outputs": [],
   "source": [
    "import re\n",
    "def preprocess(x):\n",
    "    html_pattern = re.compile('<.*?>')\n",
    "    x = html_pattern.sub(r'', x)\n",
    "    x = \" \".join([word for word in str(x).split() if word not in STOPWORDS])\n",
    "    return x\n",
    "df_train['Comment'] = df_train['Comment'].apply(lambda x: preprocess(x))\n",
    "df_test['Comment'] = df_test['Comment'].apply(lambda x:preprocess(x))"
   ]
  },
  {
   "cell_type": "code",
   "execution_count": 6,
   "metadata": {
    "execution": {
     "iopub.execute_input": "2023-09-11T00:27:05.483085Z",
     "iopub.status.busy": "2023-09-11T00:27:05.480725Z",
     "iopub.status.idle": "2023-09-11T00:27:05.497229Z",
     "shell.execute_reply": "2023-09-11T00:27:05.495939Z",
     "shell.execute_reply.started": "2023-09-11T00:27:05.483052Z"
    },
    "tags": [],
    "trusted": true
   },
   "outputs": [
    {
     "data": {
      "text/plain": [
       "{'Code Switching', 'Grammatical', 'Multiple Errors', 'Spelling'}"
      ]
     },
     "execution_count": 6,
     "metadata": {},
     "output_type": "execute_result"
    }
   ],
   "source": [
    "import numpy as np\n",
    "allcats = set(df_train['Category'].dropna().tolist())\n",
    "allcats"
   ]
  },
  {
   "cell_type": "code",
   "execution_count": 7,
   "metadata": {
    "execution": {
     "iopub.execute_input": "2023-09-11T00:27:05.503774Z",
     "iopub.status.busy": "2023-09-11T00:27:05.501568Z",
     "iopub.status.idle": "2023-09-11T00:27:05.514427Z",
     "shell.execute_reply": "2023-09-11T00:27:05.513487Z",
     "shell.execute_reply.started": "2023-09-11T00:27:05.503744Z"
    },
    "tags": [],
    "trusted": true
   },
   "outputs": [
    {
     "data": {
      "text/plain": [
       "{'Correct': 0,\n",
       " 'Grammatical': 1,\n",
       " 'Code Switching': 2,\n",
       " 'Spelling': 3,\n",
       " 'Multiple Errors': 4}"
      ]
     },
     "execution_count": 7,
     "metadata": {},
     "output_type": "execute_result"
    }
   ],
   "source": [
    "allcats.add('Correct')\n",
    "labeldict = {}\n",
    "counter = 0\n",
    "for i in allcats:\n",
    "    labeldict[i] = counter\n",
    "    counter += 1\n",
    "labeldict"
   ]
  },
  {
   "cell_type": "code",
   "execution_count": 8,
   "metadata": {
    "execution": {
     "iopub.execute_input": "2023-09-11T00:27:05.522183Z",
     "iopub.status.busy": "2023-09-11T00:27:05.519692Z",
     "iopub.status.idle": "2023-09-11T00:27:05.546060Z",
     "shell.execute_reply": "2023-09-11T00:27:05.545166Z",
     "shell.execute_reply.started": "2023-09-11T00:27:05.522149Z"
    },
    "tags": [],
    "trusted": true
   },
   "outputs": [],
   "source": [
    "def manage(x):\n",
    "    if x in labeldict:\n",
    "        return labeldict[x]\n",
    "    else:\n",
    "        return labeldict['Correct']\n",
    "df_train['Category'] = df_train['Category'].apply(lambda x:manage(x))\n",
    "df_test['Category'] = df_test['Category'].apply(lambda x:manage(x))"
   ]
  },
  {
   "cell_type": "code",
   "execution_count": 9,
   "metadata": {
    "execution": {
     "iopub.execute_input": "2023-09-11T00:27:05.552715Z",
     "iopub.status.busy": "2023-09-11T00:27:05.550277Z",
     "iopub.status.idle": "2023-09-11T00:27:05.581854Z",
     "shell.execute_reply": "2023-09-11T00:27:05.580651Z",
     "shell.execute_reply.started": "2023-09-11T00:27:05.552679Z"
    },
    "tags": [],
    "trusted": true
   },
   "outputs": [
    {
     "data": {
      "application/vnd.microsoft.datawrangler.viewer.v0+json": {
       "columns": [
        {
         "name": "index",
         "rawType": "int64",
         "type": "integer"
        },
        {
         "name": "Video Title",
         "rawType": "object",
         "type": "string"
        },
        {
         "name": "Genre",
         "rawType": "object",
         "type": "string"
        },
        {
         "name": "Comment",
         "rawType": "object",
         "type": "string"
        },
        {
         "name": "Error",
         "rawType": "int64",
         "type": "integer"
        },
        {
         "name": "Category",
         "rawType": "int64",
         "type": "integer"
        },
        {
         "name": "Correct Form",
         "rawType": "object",
         "type": "string"
        }
       ],
       "ref": "2e047c7c-902a-487a-923f-64ec22ba9a67",
       "rows": [
        [
         "0",
         "ওবায়দুল কাদের বললেন, ‘খেলা হবে’; আর রুমিন ফারহানা বললেন, ‘আসেন খেলি’ ! | Quader | Rumeen Farhana",
         "Politics",
         "কাদের খেলব কাদের খেলতেই না",
         "1",
         "1",
         "কাদের কি খেলবে কাদের তো খেলতেই পারে না"
        ],
        [
         "1",
         "পুলিশের গাড়ির ওপর চড়াও বিএনপির কর্মীরা  | BNP | Channel 24",
         "Politics",
         "এসব আরো ঠাসা",
         "1",
         "3",
         "এসব করে আরো কোণঠাসা  হবে"
        ],
        [
         "2",
         "Ayub Bachchu |  Ek Akash Tara | আইয়ুব বাচ্চু | এক আকাশ তারা | Official Music Video",
         "Entertainment",
         "যুগ যুগ গেথে গান",
         "0",
         "0",
         "যুগ যুগ ধরে আমাদের  মনে গেথে থাকবে এ গান"
        ],
        [
         "3",
         "যে প্রেম কাহিনী কোন বাধা মানেনি | BBC Bangla",
         "Miscellaneous",
         "অাচছা অাপু এলাজী থাকলে টিকা জাবেনা",
         "1",
         "3",
         "আচ্ছা আপু এলার্জী থাকলে টিকা নেওয়া যাবেনা"
        ],
        [
         "4",
         "তুরস্কের চেয়ে ভয়াবহ ভূমিকম্পের ঝুঁকিতে বাংলাদেশ | BBC Bangla",
         "News",
         "হে আল্লাহ জালিমদের সন্তান সন্তদের হেফাজত",
         "0",
         "0",
         "হে আল্লাহ এই জালিমদের থেকে আমাদের সন্তান সন্তদের কে আপনি হেফাজত করেন"
        ],
        [
         "5",
         "মাহমুদুল্লাহর সেরা ১০টি ইনিংস || 10 Greatest Innings of Mahmudullah Riyad || Bissoy Bangla",
         "Sports",
         "মতে মাহমুদুল্লাহ রিয়াদ বাংলাদেশের খেলোয়াড়",
         "0",
         "0",
         "আমার মতে মাহমুদুল্লাহ রিয়াদ বাংলাদেশের সেরা খেলোয়াড়"
        ],
        [
         "6",
         "পথ শিশুর কথাগুলে প্রধানমন্ত্রীর কলিজা কাপিয়ে দিবে || A heart-wrenching story of a poor Boy",
         "Miscellaneous",
         "কথা গুলো শুনে কান্না দিয়েছি এতীম পৃথিবীতে এতীম দাম পৃথিবীর গুলো বড়ো",
         "1",
         "3",
         "কথা গুলো শুনে কান্না করে দিয়েছি কারণ আমিও এতিম এই পৃথিবীতে এতিমের কোন দাম নেই পৃথিবীর মানুষ গুলো বড় স্বার্থপর"
        ],
        [
         "7",
         "ইলিশের গল্প - Best Of Gopal Bhar - Full Episode",
         "Entertainment",
         "ইয়া আল্লাহ্ তুমিই রক্ষার মালিক",
         "0",
         "0",
         "ইয়া আল্লাহ্ তুমিই রক্ষার মালিক"
        ],
        [
         "8",
         "বিশ্বকাপ এ সেরা ১০ গোল | Top 10 Qatar World Cup 2022 Goals",
         "Entertainment",
         "রিছারনছনের গোল সুন্দর",
         "0",
         "0",
         "রিছারনছনের গোল বেশি সুন্দর হয়েছে"
        ],
        [
         "9",
         "Priyo Valobasa, প্রিয় ভালোবাসা | Bangla Natok | Apurba, JS Heme | Bangla Natok 2023, New Natok 2023",
         "Entertainment",
         "স্বামি মন ভরেনা মেয়ে জারা স্বামী মা বাাবাকে বাচায়",
         "1",
         "3",
         "স্বামি  এত দেয় তারপর ও মন ভরেনা এরকম আছে অনেক মেয়ে যারা স্বামী কে শেষ করে আর মা বাবাকে বাঁচায়"
        ],
        [
         "10",
         "বিশ্বকাপের সেমিতে যেতে কয়টি ম্যাচ জিততে হবে বাংলাদেশকে? - নট আউট নোমান",
         "Sports",
         "বাংলাদেশ নিম্নে ৬ ম্যাচ জিতবে নমান ভাই",
         "1",
         "1",
         "আমার মনে হচ্ছে বাংলাদেশ নিম্নে ৬ টা ম্যাচ জিতবে এবার নমান ভাই"
        ],
        [
         "11",
         "Notun Bou | নতুন বউ | Natok | Apurba | Sabila Nur | Rubel Hasan | New Natok 2023",
         "Entertainment",
         "নাটক চমৎকার মেয়ে ভূল বুঝে মেয়ে গুলো ঠিকই যায়",
         "1",
         "3",
         "নাটক টা চমৎকার হয়েছে তবে এমন মেয়ে ভুল বুঝে ফিরে আসে অন্য মেয়ে গুলো ঠিকই চলে যায়"
        ],
        [
         "12",
         "চীন এবং রাশিয়া সোনা মজুদ করছে কেন ?",
         "Politics",
         "বেগম পাড়ায় বাড়ী করছি",
         "1",
         "3",
         "আর আমরা বেগম পাড়ায় বাড়ি করছি"
        ],
        [
         "13",
         "সেক্স এডুকেশন বা যৌন শিক্ষা: বাংলাদেশে শ্রেণীকক্ষে যা পড়ানো হচ্ছে । BBC News Bangla",
         "News",
         "দোয়া আল্লাহ শহীদ প্রেসিডেন্ট জিয়াউর রহমান জান্নাতুল ফেরদৌসের মোকাম করুন আমিন সুম্মা আমিন",
         "0",
         "0",
         "দোয়া করি আল্লাহ যেন  শহীদ  প্রেসিডেন্ট   জিয়াউর রহমান কে জান্নাতুল ফেরদৌসের উচ্চ মোকাম দান করুন আমিন সুম্মা আমিন"
        ],
        [
         "14",
         "মাহমুদুল্লাহর সেরা ১০টি ইনিংস || 10 Greatest Innings of Mahmudullah Riyad || Bissoy Bangla",
         "Sports",
         "মাহমুদুল্লাহ রিয়াদ শুভ কামনা কারিয়ারের জেনো ভালো উপহার বাংলাদেশে",
         "1",
         "4",
         "মাহমুদুল্লাহ রিয়াদ জন্য শুভ কামনা কারিয়ারের শেষে যেন ভালো কিছু উপহার দেয় বাংলাদেশেকে"
        ],
        [
         "15",
         "Ore Nil Doriya│Sareng Bou│Farooque│Kabori Sarwar│Bangla Old Movie Song",
         "Entertainment",
         "বেলা শুনি",
         "0",
         "0",
         "ছোট বেলা থেকে এখনো শুনি"
        ],
        [
         "16",
         "বিএনপির হামলার পর যা বললেন পুলিশের ঊর্ধ্বতন কর্মকর্তা | BNP | DMP | Channel 24",
         "Politics",
         "প্রবাসী ভাইদের অনুরোধ করছি যতদিন না ধোকাবাজ হাসিনা খমতা না ছাড়বে ব্যাংকের টাকা করুন",
         "1",
         "4",
         "প্রবাসী ভাইদের অনুরোধ করছি যতদিন না ধোঁকাবাজ হাসিনা ক্ষমতা না ছাড়বে ব্যাংকের মাধ্যমে টাকা দেওয়া বন্ধ করুন"
        ],
        [
         "17",
         "ট্রাকে ট্রাকে ঢুকছে পেঁয়াজ, ধরা অসাধু সিন্ডিকেট | Onion imports | Rtv News",
         "News",
         "আলহামদুলিল্লাহ ৬ টাকা লস",
         "0",
         "0",
         "আলহামদুলিল্লাহ ৬ লক্ষ টাকা লস"
        ],
        [
         "18",
         "মোবাইলের নেশা 📵 | Mobile Addiction By Tarun Inspiration | Motivational video bangla 2023 | #video",
         "Miscellaneous",
         "পুরো ফোনের ব্যাপারটা প্রত্যেকটা কথা পজেটিভ আলোচনাটা ভীষন ভালো লাগলো",
         "1",
         "2",
         "এই পুরো ফোনের ব্যাপারটা প্রত্যেকটা কথা পজেটিভ আলোচনাটা ভীষন ভালো লাগলো"
        ],
        [
         "19",
         "ইলিশের গল্প - Best Of Gopal Bhar - Full Episode",
         "Entertainment",
         "চরমোনাই আরো আসবে",
         "0",
         "0",
         "চরমোনাই আরো পরে আসবে"
        ],
        [
         "20",
         "পূজা মণ্ডপে কোরআন: ঢাকা ও নোয়াখালীতে জুমার নামাজের পর বিক্ষোভ, সংঘর্ষ ও হামলা | BBC Bangla",
         "News",
         "পাকি রাজাকার দেকতেছি",
         "1",
         "3",
         "এখানে ও অনেক পাকি রাজাকার দেখতেছি"
        ],
        [
         "21",
         "আর্জেন্টিনা VS ব্রাজিল|ফাইনাল|কোপা আমেরিকা ২০২১|Football Bangla Funny Dubbing Mama Problem New",
         "Entertainment",
         "ভাই কাতার কাপের ফানি বিডিও চাই",
         "1",
         "2",
         "ভাই এই রকম কাতার বিশ্ব কাপের ও মজার ভিডিও চাই"
        ],
        [
         "22",
         "মানবিক বিভাগে পড়েও কাজ করছেন বিজ্ঞান নিয়ে | Fogger Machine | Savar | Channel 24",
         "News",
         "ধরনের বিঙ্গানিদের মূল্য এদেশে",
         "1",
         "3",
         "এই ধরনের কোন বিজ্ঞানীদের কোন মূল্য নেই এদেশে"
        ],
        [
         "23",
         "আর্জেন্টিনা VS ব্রাজিল|ফাইনাল|কোপা আমেরিকা ২০২১|Football Bangla Funny Dubbing Mama Problem New",
         "Entertainment",
         "অপসাইট গোল না",
         "1",
         "3",
         "অফসাইডে  ছিল এটা গোল হয় না"
        ],
        [
         "24",
         "আমি বিশ্বের সবচেয়ে উষ্ণ স্থানে গিয়েছিলাম (৭০.৭°সে.) লুত মরুভূমি",
         "Miscellaneous",
         "আল্লাহু আকবার আল্লাহু আকবর আল্লাহু আকবর",
         "0",
         "0",
         "আল্লাহু আকবার আল্লাহু আকবর আল্লাহু আকবর"
        ],
        [
         "25",
         "পহেলা বৈশাখে 'মঙ্গল শোভাযাত্রা' বন্ধে আইনি নোটিশ | Pohela Boishakh | Rtv News",
         "News",
         "জিবি ভালো ছে আল্লাহ ওনাকে তৌফিক করুন",
         "1",
         "3",
         "এই আইনজীবী ভালো কাজ করেছে আল্লাহ ওনাকে এই রকম কাজ করার তৌফিক দান করুন"
        ],
        [
         "26",
         "বিশ্বকাপের সেমিতে যেতে কয়টি ম্যাচ জিততে হবে বাংলাদেশকে? - নট আউট নোমান",
         "Sports",
         "দল হিসাব কাপ জিতা যায় না চিন্তা দল হারাতে কাপ জিতবো",
         "0",
         "0",
         "দল হিসাব করে বিশ্ব কাপ জিতা যায় না চিন্তা করতে হবে সব দল কে হারাতে হবে এবং আমরা বিশ্ব কাপ জিতবো"
        ],
        [
         "27",
         "ফুটবল বিশ্বকাপ নিয়ে গগন ও সুমাইয়ার ডুয়েট গান🔥GOGON ft. SUMAIYA | জমবে রে জমবে এবার ফুটবল বিশ্বকাপ",
         "Entertainment",
         "ভাইয়া সুন্দর",
         "0",
         "0",
         "ভাইয়া অনেক অনেক সুন্দর হয়েছে"
        ],
        [
         "28",
         "নেত্রীর কথা শুনলে এখন হাজার হাজার শ্রমিক রাস্তায় নেমে যাবে' | Sheikh Sharhan Naser Tonmoy",
         "Politics",
         "সহমত সারহান নাসের তন্ময় ভাই",
         "0",
         "0",
         "সহমত সারহান নাসের তন্ময় ভাই"
        ],
        [
         "29",
         "বিএনপির অবস্থান কর্মসূচি ঘিরে রণক্ষেত্র ঢাকার বিভিন্ন প্রবেশমুখ | BNP & Police | Channel 24",
         "Politics",
         "দেশের একটা কলঙ্ক পুলিশের সাথে সরাসরি সরকার দলীয় লোকজন লাঠি হাতে গুরাফেরা পুলিশের সুনাম ভআড়এ না কমে পুলিশ ভাইদের প্রশ্ন রইল",
         "1",
         "3",
         "আমাদের দেশের একটা কলঙ্ক পুলিশের সাথে সরাসরি সরকার দলীয় লোকজন লাঠি হাতে নিয়ে ঘুরাফেরা করে তাহলে পুলিশের কি সুনাম বাড়ে না কমে এটাই আমার পুলিশ ভাইদের কাছে প্রশ্ন রইল"
        ],
        [
         "30",
         "একাকিত্ব আল্লাহর বড় নেয়ামত। আবু ত্বহা মুহাম্মদ আদনান । Abu toha Mohammad Adnan",
         "Miscellaneous",
         "একাকীত্ব ধরযো ধরার তৌফিক আল্লাহকে খুজে পেয়েছি",
         "1",
         "3",
         "একাকীত্ব আমাকে ধৈর্য্য ধরার তৌফিক দান করেছেন আমি আমার আল্লাহকে খুঁজে পেয়েছি"
        ],
        [
         "31",
         "জিয়াউর রহমান: বিএনপির প্রতিষ্ঠাতা ও সাবেক রাষ্ট্রপতির মৃতদেহের খোঁজ মিলে যেভাবে | BBC Bangla",
         "Politics",
         "ভাই মাঝখানে নোয়াখালী রাখাটা পারফেক্ট হইছে",
         "0",
         "0",
         "ভাই আর যাই বলেন মাঝখানে নোয়াখালী রাখাটা পারফেক্ট হইছে"
        ],
        [
         "32",
         "ব্রেকিং নিউজ, জুনে বাংলাদেশের সাথে প্রীতি ফুটবল ম্যাচ খেলবে আর্জেন্টিনা | Argentina vs Bangladesh",
         "Sports",
         "দূর ফালতু ভিডিও ফালতু খবর",
         "1",
         "3",
         "ধুর ফালতু ভিডিও ফালতু খবর"
        ],
        [
         "33",
         "New Trending Business Idea In 2023 ll New Business Ideas In 2023 ll Bio Carry Bags Making Business",
         "Miscellaneous",
         "বাংলাদেশ চট্টগ্রামে পেতে",
         "0",
         "0",
         "বাংলাদেশ চট্টগ্রামে কিভাবে পেতে পারি"
        ],
        [
         "34",
         "বিশ্বকাপ এ সেরা ১০ গোল | Top 10 Qatar World Cup 2022 Goals",
         "Entertainment",
         "কাপ প্লেয়ার পুরস্কার পেয়েছে একটা ভিডিও বানাউ",
         "0",
         "0",
         "বিশ্ব কাপ কোন প্লেয়ার কী কী পুরস্কার পেয়েছে এটা নিয়ে একটা ভিডিও বানাউ"
        ],
        [
         "35",
         "সেরা ম্যাচ!!! Bangladesh vs Sri Lanka Best Funny Video | Nidhas Trophy Dubbing | Sports Talkies",
         "Sports",
         "ভন্ডামীর একটা বুঝছেন ভাই",
         "0",
         "0",
         "ভন্ডামীর একটা জায়গা আছে বুঝছেন ভাই"
        ],
        [
         "36",
         "মুরগির দোকানে ভোক্তা অধিকার, অন্যায় করেও তর্ক করেন ব্যবসায়ীরা | DBC NEWS",
         "News",
         "অভিজান প্রতিটি বাজারে হওয়া দরকার",
         "0",
         "0",
         "এমন অভিজান প্রতিটি বাজারে হওয়া দরকার"
        ],
        [
         "37",
         "ট্রাকে ট্রাকে ঢুকছে পেঁয়াজ, ধরা অসাধু সিন্ডিকেট | Onion imports | Rtv News",
         "News",
         "আরো দাম কমানো",
         "0",
         "0",
         "আরো দাম কমানো হোক"
        ],
        [
         "38",
         "চীন বনাম আমেরিকা সেমিকন্ডাকটর যুদ্ধ কিভাবে শুরু হল ?",
         "Politics",
         "আবেদন করেছিলাম পাঠ্য পুস্তকের বিকৃত ইতিহাস অবৈজ্ঞানিক কথাবার্তা ভিডিও বানাতে বানান খুবই কষ্ট পেলাম",
         "0",
         "0",
         "আপনার কাছে আবেদন করেছিলাম পাঠ্য পুস্তকের বিকৃত ইতিহাস অবৈজ্ঞানিক কথাবার্তা নিয়ে একটি ভিডিও বানাতে কিন্তু আপনি বানান নিয়ে খুবই কষ্ট পেলাম"
        ],
        [
         "39",
         "বাবার ক্ষমতা থাকলে মেয়েরা যা করে.. প্রভাবশালীর মেয়ে বলে ছেলেটির সাথে যা করলো.. শেষ পর্যন্ত দেখুন",
         "Entertainment",
         "ভাই আফরান নিসু ভাই কোথায়",
         "0",
         "0",
         "ভাই আফরান নিসু ভাই কোথায় থাকে বলতে পারেন"
        ],
        [
         "40",
         "ছায়াপথ বা গ্যালাক্সি | কি কেন কিভাবে | Galaxy | Ki Keno Kivabe",
         "Miscellaneous",
         "আল্লাহ আল্লায় ভালো জানেন মহত্তের হাত পারবে না",
         "1",
         "3",
         "আল্লাহ কত মহান আল্লাহই ভালো জানেন তার মহত্বের মধ্যে কেউ হাত দিতে পারবে না"
        ],
        [
         "41",
         "১০০০ টাকার বাজার নিয়ে ভোক্তা অধিদপ্তরে | আমার কিছু বলার আছে | Amar Kichu Bolar Ache | Channel 24",
         "News",
         "অসাধারণ ভিডিও সাংবাদিক ধন্যবাদ গরিব মানুষের মনের কথাগুলো ধরার",
         "0",
         "0",
         "অসাধারণ ভিডিও সাংবাদিক  অনেক অনেক ধন্যবাদ গরিব মানুষের মনের কথাগুলো তুলে ধরার জন্য"
        ],
        [
         "42",
         "কতটা ভয়াবহ ছিল ১৯৯৮ সালের বন্যা ?😢 কাঁদতে বাধ্য হবেন | Flood in Bangladesh 1998 Documentary",
         "Miscellaneous",
         "আল্লাহ তায়ালা জান্নাত বাসী করোক আমিন",
         "1",
         "3",
         "আল্লাহ তায়ালা যেন তাদের জান্নাতবাসী করুক আমিন"
        ],
        [
         "43",
         "Highlights | চ্যাম্পিয়ন বাংলাদেশ! | Bangladesh Vs India | Saff U-19 Women's Championship | T Sports",
         "Sports",
         "বিশ্বকাপ খেলবে ইনশাআল্লাহ",
         "0",
         "0",
         "এরা বিশ্বকাপ খেলবে ইনশাআল্লাহ"
        ],
        [
         "44",
         "পূজা মণ্ডপে কোরআন: ঢাকা ও নোয়াখালীতে জুমার নামাজের পর বিক্ষোভ, সংঘর্ষ ও হামলা | BBC Bangla",
         "News",
         "বানাও",
         "0",
         "0",
         "নতুন কিছু বানাও"
        ],
        [
         "45",
         "তারেক রহমান ২০০৮ সালে কেন দেশ ছেড়েছিলেন?",
         "Politics",
         "যেরকম তারও একদিন নাহলে একদিন",
         "0",
         "0",
         "যে যেরকম করবে তারও এরকম হবে একদিন নাহলে একদিন"
        ],
        [
         "46",
         "আমি বিশ্বের সবচেয়ে উষ্ণ স্থানে গিয়েছিলাম (৭০.৭°সে.) লুত মরুভূমি",
         "Miscellaneous",
         "আল্লাহ ভালো রেখেছে আলহামদুলিল্লাহ",
         "0",
         "0",
         "আল্লাহ আমাদের কে কত ভালো রেখেছে আলহামদুলিল্লাহ"
        ],
        [
         "47",
         "চরম লেভেলের মুভি । অস্থির বিনোদন ! 🤣🤣 Movie Explained in Bangla",
         "Entertainment",
         "ভাই ৫৬ দেখেছি",
         "0",
         "0",
         "ভাই আমি  এটা ৫৬ বার দেখেছি"
        ],
        [
         "48",
         "যশোরে গ্রামবাসীরা তৈরি করছে হাজার ফুট দীর্ঘ ভাসমান সেতু| BBC News Bangla",
         "News",
         "কোরআন হাদিস মতে জিন্দেগি",
         "1",
         "2",
         "কোরআন হাদিস মতে জীবন করি"
        ],
        [
         "49",
         "মুরগির দোকানে ভোক্তা অধিকার, অন্যায় করেও তর্ক করেন ব্যবসায়ীরা | DBC NEWS",
         "News",
         "ধন্যবাদ স্যার না আমলাদের ধরেন সিন্ডিকেট ভাংগেন",
         "0",
         "0",
         "ধন্যবাদ স্যার এদের কে না ধরে বড় বড় আমলাদের ধরেন সিন্ডিকেট ভাংগেন"
        ]
       ],
       "shape": {
        "columns": 6,
        "rows": 8032
       }
      },
      "text/html": [
       "<div>\n",
       "<style scoped>\n",
       "    .dataframe tbody tr th:only-of-type {\n",
       "        vertical-align: middle;\n",
       "    }\n",
       "\n",
       "    .dataframe tbody tr th {\n",
       "        vertical-align: top;\n",
       "    }\n",
       "\n",
       "    .dataframe thead th {\n",
       "        text-align: right;\n",
       "    }\n",
       "</style>\n",
       "<table border=\"1\" class=\"dataframe\">\n",
       "  <thead>\n",
       "    <tr style=\"text-align: right;\">\n",
       "      <th></th>\n",
       "      <th>Video Title</th>\n",
       "      <th>Genre</th>\n",
       "      <th>Comment</th>\n",
       "      <th>Error</th>\n",
       "      <th>Category</th>\n",
       "      <th>Correct Form</th>\n",
       "    </tr>\n",
       "  </thead>\n",
       "  <tbody>\n",
       "    <tr>\n",
       "      <th>0</th>\n",
       "      <td>ওবায়দুল কাদের বললেন, ‘খেলা হবে’; আর রুমিন ফারহ...</td>\n",
       "      <td>Politics</td>\n",
       "      <td>কাদের খেলব কাদের খেলতেই না</td>\n",
       "      <td>1</td>\n",
       "      <td>1</td>\n",
       "      <td>কাদের কি খেলবে কাদের তো খেলতেই পারে না</td>\n",
       "    </tr>\n",
       "    <tr>\n",
       "      <th>1</th>\n",
       "      <td>পুলিশের গাড়ির ওপর চড়াও বিএনপির কর্মীরা  | BN...</td>\n",
       "      <td>Politics</td>\n",
       "      <td>এসব আরো ঠাসা</td>\n",
       "      <td>1</td>\n",
       "      <td>3</td>\n",
       "      <td>এসব করে আরো কোণঠাসা  হবে</td>\n",
       "    </tr>\n",
       "    <tr>\n",
       "      <th>2</th>\n",
       "      <td>Ayub Bachchu |  Ek Akash Tara | আইয়ুব বাচ্চু |...</td>\n",
       "      <td>Entertainment</td>\n",
       "      <td>যুগ যুগ গেথে গান</td>\n",
       "      <td>0</td>\n",
       "      <td>0</td>\n",
       "      <td>যুগ যুগ ধরে আমাদের  মনে গেথে থাকবে এ গান</td>\n",
       "    </tr>\n",
       "    <tr>\n",
       "      <th>3</th>\n",
       "      <td>যে প্রেম কাহিনী কোন বাধা মানেনি | BBC Bangla</td>\n",
       "      <td>Miscellaneous</td>\n",
       "      <td>অাচছা অাপু এলাজী থাকলে টিকা জাবেনা</td>\n",
       "      <td>1</td>\n",
       "      <td>3</td>\n",
       "      <td>আচ্ছা আপু এলার্জী থাকলে টিকা নেওয়া যাবেনা</td>\n",
       "    </tr>\n",
       "    <tr>\n",
       "      <th>4</th>\n",
       "      <td>তুরস্কের চেয়ে ভয়াবহ ভূমিকম্পের ঝুঁকিতে বাংলাদে...</td>\n",
       "      <td>News</td>\n",
       "      <td>হে আল্লাহ জালিমদের সন্তান সন্তদের হেফাজত</td>\n",
       "      <td>0</td>\n",
       "      <td>0</td>\n",
       "      <td>হে আল্লাহ এই জালিমদের থেকে আমাদের সন্তান সন্তদ...</td>\n",
       "    </tr>\n",
       "    <tr>\n",
       "      <th>...</th>\n",
       "      <td>...</td>\n",
       "      <td>...</td>\n",
       "      <td>...</td>\n",
       "      <td>...</td>\n",
       "      <td>...</td>\n",
       "      <td>...</td>\n",
       "    </tr>\n",
       "    <tr>\n",
       "      <th>8027</th>\n",
       "      <td>Shitom Ahmed - Chorabali (Lyrics) || কেন লাগে ...</td>\n",
       "      <td>Entertainment</td>\n",
       "      <td>সত্যি শুন্য লাগে</td>\n",
       "      <td>0</td>\n",
       "      <td>0</td>\n",
       "      <td>সত্যি তাকে ছাড়া খুব শুন্য লাগে</td>\n",
       "    </tr>\n",
       "    <tr>\n",
       "      <th>8028</th>\n",
       "      <td>হৃদয় ছুঁয়ে যাওয়া ৭টি সেরা ইমোশনাল বিজ্ঞাপন ...</td>\n",
       "      <td>Entertainment</td>\n",
       "      <td>বিজ্ঞাপন গুলো চোখে পানি আসলো ভাই</td>\n",
       "      <td>0</td>\n",
       "      <td>0</td>\n",
       "      <td>বিজ্ঞাপন গুলো দেখে চোখে পানি চলে আসলো ভাই</td>\n",
       "    </tr>\n",
       "    <tr>\n",
       "      <th>8029</th>\n",
       "      <td>আইপিএলের নিলাম তালিকায় পাঁচ বাংলাদেশি | IPL | ...</td>\n",
       "      <td>Sports</td>\n",
       "      <td>টাকা সবদিক</td>\n",
       "      <td>1</td>\n",
       "      <td>3</td>\n",
       "      <td>একবার যখন টাকা হয় তখন সব দিক দিয়ে আসে</td>\n",
       "    </tr>\n",
       "    <tr>\n",
       "      <th>8030</th>\n",
       "      <td>মাহমুদুল্লাহর সেরা ১০টি ইনিংস || 10 Greatest I...</td>\n",
       "      <td>Sports</td>\n",
       "      <td>অসাধারণ ইউটিউব ভিডিও সাথে চমৎকার ব্যাকগ্রাউন্ড</td>\n",
       "      <td>0</td>\n",
       "      <td>0</td>\n",
       "      <td>আমার দেখা অসাধারণ ইউটিউব ভিডিও তার সাথে চমৎকার...</td>\n",
       "    </tr>\n",
       "    <tr>\n",
       "      <th>8031</th>\n",
       "      <td>Ural Debo Akashe | উড়াল দেব আকাশে | Ayub Bachc...</td>\n",
       "      <td>Entertainment</td>\n",
       "      <td>উড়াল দেব আকাশে</td>\n",
       "      <td>0</td>\n",
       "      <td>0</td>\n",
       "      <td>উড়াল দেব আকাশে</td>\n",
       "    </tr>\n",
       "  </tbody>\n",
       "</table>\n",
       "<p>8032 rows × 6 columns</p>\n",
       "</div>"
      ],
      "text/plain": [
       "                                            Video Title          Genre  \\\n",
       "0     ওবায়দুল কাদের বললেন, ‘খেলা হবে’; আর রুমিন ফারহ...       Politics   \n",
       "1     পুলিশের গাড়ির ওপর চড়াও বিএনপির কর্মীরা  | BN...       Politics   \n",
       "2     Ayub Bachchu |  Ek Akash Tara | আইয়ুব বাচ্চু |...  Entertainment   \n",
       "3         যে প্রেম কাহিনী কোন বাধা মানেনি | BBC Bangla  Miscellaneous   \n",
       "4     তুরস্কের চেয়ে ভয়াবহ ভূমিকম্পের ঝুঁকিতে বাংলাদে...           News   \n",
       "...                                                 ...            ...   \n",
       "8027  Shitom Ahmed - Chorabali (Lyrics) || কেন লাগে ...  Entertainment   \n",
       "8028  হৃদয় ছুঁয়ে যাওয়া ৭টি সেরা ইমোশনাল বিজ্ঞাপন ...  Entertainment   \n",
       "8029  আইপিএলের নিলাম তালিকায় পাঁচ বাংলাদেশি | IPL | ...         Sports   \n",
       "8030  মাহমুদুল্লাহর সেরা ১০টি ইনিংস || 10 Greatest I...         Sports   \n",
       "8031  Ural Debo Akashe | উড়াল দেব আকাশে | Ayub Bachc...  Entertainment   \n",
       "\n",
       "                                             Comment  Error  Category  \\\n",
       "0                         কাদের খেলব কাদের খেলতেই না      1         1   \n",
       "1                                       এসব আরো ঠাসা      1         3   \n",
       "2                                   যুগ যুগ গেথে গান      0         0   \n",
       "3                 অাচছা অাপু এলাজী থাকলে টিকা জাবেনা      1         3   \n",
       "4           হে আল্লাহ জালিমদের সন্তান সন্তদের হেফাজত      0         0   \n",
       "...                                              ...    ...       ...   \n",
       "8027                                সত্যি শুন্য লাগে      0         0   \n",
       "8028                বিজ্ঞাপন গুলো চোখে পানি আসলো ভাই      0         0   \n",
       "8029                                      টাকা সবদিক      1         3   \n",
       "8030  অসাধারণ ইউটিউব ভিডিও সাথে চমৎকার ব্যাকগ্রাউন্ড      0         0   \n",
       "8031                                  উড়াল দেব আকাশে      0         0   \n",
       "\n",
       "                                           Correct Form  \n",
       "0                কাদের কি খেলবে কাদের তো খেলতেই পারে না  \n",
       "1                              এসব করে আরো কোণঠাসা  হবে  \n",
       "2              যুগ যুগ ধরে আমাদের  মনে গেথে থাকবে এ গান  \n",
       "3             আচ্ছা আপু এলার্জী থাকলে টিকা নেওয়া যাবেনা  \n",
       "4     হে আল্লাহ এই জালিমদের থেকে আমাদের সন্তান সন্তদ...  \n",
       "...                                                 ...  \n",
       "8027                     সত্যি তাকে ছাড়া খুব শুন্য লাগে  \n",
       "8028          বিজ্ঞাপন গুলো দেখে চোখে পানি চলে আসলো ভাই  \n",
       "8029            একবার যখন টাকা হয় তখন সব দিক দিয়ে আসে  \n",
       "8030  আমার দেখা অসাধারণ ইউটিউব ভিডিও তার সাথে চমৎকার...  \n",
       "8031                                     উড়াল দেব আকাশে  \n",
       "\n",
       "[8032 rows x 6 columns]"
      ]
     },
     "execution_count": 9,
     "metadata": {},
     "output_type": "execute_result"
    }
   ],
   "source": [
    "df_train"
   ]
  },
  {
   "cell_type": "code",
   "execution_count": 10,
   "metadata": {
    "execution": {
     "iopub.execute_input": "2023-09-11T00:27:05.591332Z",
     "iopub.status.busy": "2023-09-11T00:27:05.588948Z",
     "iopub.status.idle": "2023-09-11T00:27:05.601900Z",
     "shell.execute_reply": "2023-09-11T00:27:05.600794Z",
     "shell.execute_reply.started": "2023-09-11T00:27:05.591300Z"
    },
    "id": "6b9dc3e4",
    "papermill": {
     "duration": 0.018204,
     "end_time": "2023-07-25T16:06:53.268005",
     "exception": false,
     "start_time": "2023-07-25T16:06:53.249801",
     "status": "completed"
    },
    "tags": [],
    "trusted": true
   },
   "outputs": [],
   "source": [
    "data_no = 5\n",
    "\n",
    "# Prepare the training data\n",
    "train_texts = df_train['Comment'].tolist()\n",
    "train_labels = df_train['Category'].tolist()\n",
    "\n",
    "test_texts = df_test['Comment'].tolist()\n",
    "test_labels = df_test['Category'].tolist()"
   ]
  },
  {
   "cell_type": "code",
   "execution_count": 11,
   "metadata": {
    "execution": {
     "iopub.execute_input": "2023-09-11T00:27:05.609869Z",
     "iopub.status.busy": "2023-09-11T00:27:05.606825Z",
     "iopub.status.idle": "2023-09-11T00:27:14.159421Z",
     "shell.execute_reply": "2023-09-11T00:27:14.158374Z",
     "shell.execute_reply.started": "2023-09-11T00:27:05.609804Z"
    },
    "id": "c68abf8e",
    "outputId": "fc006e00-bc36-49f7-9041-3cc6a300504b",
    "papermill": {
     "duration": 11.003131,
     "end_time": "2023-07-25T16:07:04.276102",
     "exception": false,
     "start_time": "2023-07-25T16:06:53.272971",
     "status": "completed"
    },
    "tags": [],
    "trusted": true
   },
   "outputs": [],
   "source": [
    "# Tokenize and encode the training texts\n",
    "train_encodings = tokenizer(train_texts, truncation=True, max_length=128,\n",
    "        padding='max_length', return_tensors = 'pt')\n",
    "\n",
    "# Convert the labels to tensors\n",
    "train_labels = torch.tensor(train_labels)\n",
    "\n",
    "# Create a PyTorch dataset\n",
    "train_dataset = torch.utils.data.TensorDataset(train_encodings['input_ids'],\n",
    "                                               train_encodings['attention_mask'],\n",
    "                                               train_labels)\n",
    "\n",
    "# Create a data loader\n",
    "train_loader = torch.utils.data.DataLoader(train_dataset, batch_size=16, shuffle=True)\n",
    "\n",
    "model = model.to(device)"
   ]
  },
  {
   "cell_type": "code",
   "execution_count": 12,
   "metadata": {
    "execution": {
     "iopub.execute_input": "2023-09-11T00:27:14.161347Z",
     "iopub.status.busy": "2023-09-11T00:27:14.160887Z",
     "iopub.status.idle": "2023-09-11T00:41:38.345148Z",
     "shell.execute_reply": "2023-09-11T00:41:38.344171Z",
     "shell.execute_reply.started": "2023-09-11T00:27:14.161313Z"
    },
    "id": "eedb3a9c",
    "outputId": "81f0d82e-5d90-4271-e5cf-71638bf8bc98",
    "papermill": {
     "duration": 668.41198,
     "end_time": "2023-07-25T16:18:12.693572",
     "exception": false,
     "start_time": "2023-07-25T16:07:04.281592",
     "status": "completed"
    },
    "tags": [],
    "trusted": true
   },
   "outputs": [
    {
     "name": "stderr",
     "output_type": "stream",
     "text": [
      "/home/pc/anaconda3/lib/python3.12/site-packages/torch/cuda/memory.py:489: FutureWarning: torch.cuda.reset_max_memory_allocated now calls torch.cuda.reset_peak_memory_stats, which resets /all/ peak memory stats.\n",
      "  warnings.warn(\n"
     ]
    },
    {
     "data": {
      "application/vnd.jupyter.widget-view+json": {
       "model_id": "c75b0ddcf19f469a9b06f5eb91760259",
       "version_major": 2,
       "version_minor": 0
      },
      "text/plain": [
       "  0%|          | 0/5 [00:00<?, ?it/s]"
      ]
     },
     "metadata": {},
     "output_type": "display_data"
    },
    {
     "data": {
      "application/vnd.jupyter.widget-view+json": {
       "model_id": "1ae2ed28e4894a3b88e3afef48ac4e17",
       "version_major": 2,
       "version_minor": 0
      },
      "text/plain": [
       "  0%|          | 0/502 [00:00<?, ?it/s]"
      ]
     },
     "metadata": {},
     "output_type": "display_data"
    },
    {
     "name": "stdout",
     "output_type": "stream",
     "text": [
      "Epoch 1/5 - Loss: 1.0181 - Accuracy: 0.6500\n"
     ]
    },
    {
     "data": {
      "application/vnd.jupyter.widget-view+json": {
       "model_id": "ab8b77729e9747feb1c958e3f8c24b21",
       "version_major": 2,
       "version_minor": 0
      },
      "text/plain": [
       "  0%|          | 0/502 [00:00<?, ?it/s]"
      ]
     },
     "metadata": {},
     "output_type": "display_data"
    },
    {
     "name": "stdout",
     "output_type": "stream",
     "text": [
      "Epoch 2/5 - Loss: 0.7522 - Accuracy: 0.7480\n"
     ]
    },
    {
     "data": {
      "application/vnd.jupyter.widget-view+json": {
       "model_id": "e546a2a5f86e44e58b20329bf6b536ed",
       "version_major": 2,
       "version_minor": 0
      },
      "text/plain": [
       "  0%|          | 0/502 [00:00<?, ?it/s]"
      ]
     },
     "metadata": {},
     "output_type": "display_data"
    },
    {
     "name": "stdout",
     "output_type": "stream",
     "text": [
      "Epoch 3/5 - Loss: 0.6218 - Accuracy: 0.8045\n"
     ]
    },
    {
     "data": {
      "application/vnd.jupyter.widget-view+json": {
       "model_id": "34bac950d2ad450cb808aa59b367b5d1",
       "version_major": 2,
       "version_minor": 0
      },
      "text/plain": [
       "  0%|          | 0/502 [00:00<?, ?it/s]"
      ]
     },
     "metadata": {},
     "output_type": "display_data"
    },
    {
     "name": "stdout",
     "output_type": "stream",
     "text": [
      "Epoch 4/5 - Loss: 0.5071 - Accuracy: 0.8434\n"
     ]
    },
    {
     "data": {
      "application/vnd.jupyter.widget-view+json": {
       "model_id": "624689fb72ab45c9a64f8676041c2fba",
       "version_major": 2,
       "version_minor": 0
      },
      "text/plain": [
       "  0%|          | 0/502 [00:00<?, ?it/s]"
      ]
     },
     "metadata": {},
     "output_type": "display_data"
    },
    {
     "name": "stdout",
     "output_type": "stream",
     "text": [
      "Epoch 5/5 - Loss: 0.4086 - Accuracy: 0.8794\n",
      "Witout AMP: \n",
      "\n",
      "Total training time: 545.27 seconds\n",
      "Maximum GPU memory allocated: 3.0138 GB\n"
     ]
    }
   ],
   "source": [
    "from tqdm.notebook import tqdm\n",
    "import torch\n",
    "import torch.optim as optim\n",
    "import torch.nn as nn\n",
    "from sklearn.metrics import accuracy_score\n",
    "import time\n",
    "\n",
    "# Reset peak GPU memory tracking\n",
    "if torch.cuda.is_available():\n",
    "    torch.cuda.reset_max_memory_allocated()\n",
    "\n",
    "# Set the model to training mode\n",
    "model.train()\n",
    "\n",
    "# Define the optimizer and loss function\n",
    "optimizer = torch.optim.AdamW(model.parameters(), lr=1e-5)\n",
    "loss_fn = torch.nn.CrossEntropyLoss()\n",
    "\n",
    "losses = []\n",
    "accuracies = []  # To store accuracy per epoch\n",
    "num_epochs = 5\n",
    "\n",
    "start_time = time.time()  # Start time before training\n",
    "\n",
    "# Training loop\n",
    "for epoch in tqdm(range(num_epochs)):  # Number of training epochs\n",
    "    running_loss = 0.0\n",
    "    predicted_labels = []  # To store predicted labels for accuracy calculation\n",
    "    true_labels = []  # To store true labels for accuracy calculation\n",
    "\n",
    "    for batch in tqdm(train_loader):\n",
    "        input_ids = batch[0].to(device)\n",
    "        attention_mask = batch[1].to(device)\n",
    "        labels = batch[2].to(device)\n",
    "\n",
    "        optimizer.zero_grad()\n",
    "\n",
    "        outputs = model(input_ids, attention_mask=attention_mask, labels=labels)\n",
    "        loss = outputs.loss\n",
    "        logits = outputs.logits\n",
    "\n",
    "        loss.backward()\n",
    "        optimizer.step()\n",
    "\n",
    "        running_loss += loss.item()\n",
    "\n",
    "        # Convert logits to predicted labels\n",
    "        _, predicted = torch.max(logits, dim=1)\n",
    "        predicted_labels.extend(predicted.cpu().tolist())\n",
    "        true_labels.extend(labels.cpu().tolist())\n",
    "\n",
    "    epoch_loss = running_loss / len(train_loader)\n",
    "    losses.append(epoch_loss)\n",
    "\n",
    "    # Calculate and store accuracy\n",
    "    accuracy = accuracy_score(true_labels, predicted_labels)\n",
    "    accuracies.append(accuracy)\n",
    "\n",
    "    print(f'Epoch {epoch + 1}/{num_epochs} - Loss: {epoch_loss:.4f} - Accuracy: {accuracy:.4f}')\n",
    "    \n",
    "\n",
    "\n",
    "end_time = time.time()  # End time after training\n",
    "total_time = end_time - start_time\n",
    "\n",
    "max_memory = torch.cuda.max_memory_allocated() / 1e9 if torch.cuda.is_available() else 0  # Convert bytes to GB\n",
    "\n",
    "print(\"Witout AMP: \")\n",
    "print(f\"\\nTotal training time: {total_time:.2f} seconds\")\n",
    "if torch.cuda.is_available():\n",
    "    print(f\"Maximum GPU memory allocated: {max_memory:.4f} GB\")\n",
    "else:\n",
    "    print(\"GPU not available, cannot measure GPU memory usage.\")\n",
    "\n",
    "# Save the model\n",
    "torch.save(model.state_dict(), 'model.pth')\n"
   ]
  },
  {
   "cell_type": "code",
   "execution_count": 13,
   "metadata": {
    "execution": {
     "iopub.execute_input": "2023-09-11T00:41:38.347047Z",
     "iopub.status.busy": "2023-09-11T00:41:38.346691Z",
     "iopub.status.idle": "2023-09-11T00:41:38.351852Z",
     "shell.execute_reply": "2023-09-11T00:41:38.350852Z",
     "shell.execute_reply.started": "2023-09-11T00:41:38.347014Z"
    },
    "papermill": {
     "duration": 0.014424,
     "end_time": "2023-07-25T16:18:12.713695",
     "exception": false,
     "start_time": "2023-07-25T16:18:12.699271",
     "status": "completed"
    },
    "tags": [],
    "trusted": true
   },
   "outputs": [],
   "source": [
    "#dgfdgdfgdgffdgdfd1212jhkhk"
   ]
  },
  {
   "cell_type": "code",
   "execution_count": 14,
   "metadata": {
    "execution": {
     "iopub.execute_input": "2023-09-11T00:41:38.354002Z",
     "iopub.status.busy": "2023-09-11T00:41:38.353081Z",
     "iopub.status.idle": "2023-09-11T00:41:38.364850Z",
     "shell.execute_reply": "2023-09-11T00:41:38.363949Z",
     "shell.execute_reply.started": "2023-09-11T00:41:38.353969Z"
    },
    "id": "1243273c",
    "papermill": {
     "duration": 0.69644,
     "end_time": "2023-07-25T16:18:13.415572",
     "exception": false,
     "start_time": "2023-07-25T16:18:12.719132",
     "status": "completed"
    },
    "tags": [],
    "trusted": true
   },
   "outputs": [],
   "source": [
    "from sklearn.metrics import accuracy_score, f1_score, roc_auc_score\n",
    "\n",
    "def predict_labels(text):\n",
    "    train_encodings = tokenizer(text, truncation=True, max_length=128,\n",
    "        padding='max_length', return_tensors = 'pt')\n",
    "    input_ids = train_encodings['input_ids'].to(device)\n",
    "    attention_mask = train_encodings['attention_mask'].to(device)\n",
    "\n",
    "    # Set the model to evaluation mode\n",
    "    model.eval()\n",
    "\n",
    "    # Disable gradient calculation\n",
    "    with torch.no_grad():\n",
    "        outputs = model(input_ids, attention_mask=attention_mask)\n",
    "\n",
    "    logits = outputs.logits\n",
    "    probabilities = torch.softmax(logits, dim=1)\n",
    "    predicted_class = torch.argmax(probabilities, dim=1)\n",
    "    \n",
    "\n",
    "    return predicted_class.item(), probabilities[:,1].item()"
   ]
  },
  {
   "cell_type": "code",
   "execution_count": 15,
   "metadata": {
    "execution": {
     "iopub.execute_input": "2023-09-11T00:41:38.366773Z",
     "iopub.status.busy": "2023-09-11T00:41:38.366223Z",
     "iopub.status.idle": "2023-09-11T00:42:10.860832Z",
     "shell.execute_reply": "2023-09-11T00:42:10.859864Z",
     "shell.execute_reply.started": "2023-09-11T00:41:38.366740Z"
    },
    "id": "d57fe764",
    "outputId": "d7e9495a-7096-413f-cc6e-0f3e69cdc327",
    "papermill": {
     "duration": 56.127329,
     "end_time": "2023-07-25T16:19:09.548653",
     "exception": false,
     "start_time": "2023-07-25T16:18:13.421324",
     "status": "completed"
    },
    "tags": [],
    "trusted": true
   },
   "outputs": [
    {
     "data": {
      "application/vnd.jupyter.widget-view+json": {
       "model_id": "b20d3b56b0df4fffb6c65a8b923b6465",
       "version_major": 2,
       "version_minor": 0
      },
      "text/plain": [
       "  0%|          | 0/2010 [00:00<?, ?it/s]"
      ]
     },
     "metadata": {},
     "output_type": "display_data"
    },
    {
     "name": "stdout",
     "output_type": "stream",
     "text": [
      "Accuracy: 0.7318407960199005\n"
     ]
    }
   ],
   "source": [
    "predicted_labels = []\n",
    "predicted_probs = []\n",
    "for text in tqdm(test_texts):\n",
    "    predicted_label, prob = predict_labels(text)\n",
    "    predicted_labels.append(predicted_label)\n",
    "    predicted_probs.append(prob)\n",
    "\n",
    "# Calculate accuracy and F1 score\n",
    "accuracy = accuracy_score(test_labels, predicted_labels)\n",
    "# f1 = f1_score(test_labels, predicted_labels)\n",
    "# roc_auc = roc_auc_score(test_labels, predicted_probs)\n",
    "\n",
    "print('Accuracy:', accuracy)\n",
    "# print('F1 Score:', f1)\n",
    "# print('ROC-AUC:', roc_auc)"
   ]
  },
  {
   "cell_type": "code",
   "execution_count": 16,
   "metadata": {
    "execution": {
     "iopub.execute_input": "2023-09-11T00:42:10.863221Z",
     "iopub.status.busy": "2023-09-11T00:42:10.862572Z",
     "iopub.status.idle": "2023-09-11T00:42:10.869020Z",
     "shell.execute_reply": "2023-09-11T00:42:10.867963Z",
     "shell.execute_reply.started": "2023-09-11T00:42:10.863185Z"
    },
    "trusted": true
   },
   "outputs": [
    {
     "name": "stdout",
     "output_type": "stream",
     "text": [
      "Accuracy: 0.7318407960199005\n"
     ]
    }
   ],
   "source": [
    "print('Accuracy:', accuracy)"
   ]
  },
  {
   "cell_type": "code",
   "execution_count": 17,
   "metadata": {
    "execution": {
     "iopub.execute_input": "2023-09-11T00:42:10.871063Z",
     "iopub.status.busy": "2023-09-11T00:42:10.870428Z",
     "iopub.status.idle": "2023-09-11T00:42:10.895215Z",
     "shell.execute_reply": "2023-09-11T00:42:10.893884Z",
     "shell.execute_reply.started": "2023-09-11T00:42:10.871030Z"
    },
    "papermill": {
     "duration": 0.031899,
     "end_time": "2023-07-25T16:19:09.586107",
     "exception": false,
     "start_time": "2023-07-25T16:19:09.554208",
     "status": "completed"
    },
    "tags": [],
    "trusted": true
   },
   "outputs": [
    {
     "name": "stdout",
     "output_type": "stream",
     "text": [
      "\n",
      "The Classification Report is as follows\n",
      "\n",
      "              precision    recall  f1-score   support\n",
      "\n",
      "           0     0.7751    0.8755    0.8222      1157\n",
      "           1     0.5000    0.2578    0.3402       128\n",
      "           2     0.6212    0.7785    0.6910       158\n",
      "           3     0.7077    0.5884    0.6425       498\n",
      "           4     0.3600    0.1304    0.1915        69\n",
      "\n",
      "    accuracy                         0.7318      2010\n",
      "   macro avg     0.5928    0.5261    0.5375      2010\n",
      "weighted avg     0.7145    0.7318    0.7151      2010\n",
      "\n"
     ]
    }
   ],
   "source": [
    "from sklearn.metrics import roc_auc_score, classification_report\n",
    "\n",
    "print('\\nThe Classification Report is as follows\\n')\n",
    "print(classification_report(test_labels, predicted_labels, digits = 4))"
   ]
  },
  {
   "cell_type": "code",
   "execution_count": 18,
   "metadata": {},
   "outputs": [
    {
     "name": "stderr",
     "output_type": "stream",
     "text": [
      "/tmp/ipykernel_13521/770320164.py:45: FutureWarning: `torch.cuda.amp.GradScaler(args...)` is deprecated. Please use `torch.amp.GradScaler('cuda', args...)` instead.\n",
      "  scaler = amp.GradScaler()  # Initialize GradScaler for mixed precision\n",
      "/home/pc/anaconda3/lib/python3.12/site-packages/torch/cuda/memory.py:489: FutureWarning: torch.cuda.reset_max_memory_allocated now calls torch.cuda.reset_peak_memory_stats, which resets /all/ peak memory stats.\n",
      "  warnings.warn(\n",
      "/tmp/ipykernel_13521/770320164.py:65: FutureWarning: `torch.cuda.amp.autocast(args...)` is deprecated. Please use `torch.amp.autocast('cuda', args...)` instead.\n",
      "  with amp.autocast():  # Mixed precision forward pass\n"
     ]
    },
    {
     "name": "stdout",
     "output_type": "stream",
     "text": [
      "Epoch 1/3, Loss: 0.4893\n",
      "Epoch 2/3, Loss: 0.3706\n",
      "Epoch 3/3, Loss: 0.2722\n",
      "With AMP: \n",
      "\n",
      "Total training time: 180.30 seconds\n",
      "Maximum GPU memory allocated: 2.7001 GB\n"
     ]
    }
   ],
   "source": [
    "import torch\n",
    "from torch.utils.data import DataLoader, Dataset\n",
    "from transformers import AutoTokenizer\n",
    "import torch.cuda.amp as amp\n",
    "from torch.nn import CrossEntropyLoss\n",
    "from torch.optim import AdamW\n",
    "import time\n",
    "\n",
    "# Define dataset class\n",
    "class BanglaCommentDataset(Dataset):\n",
    "    def __init__(self, comments, labels, tokenizer, max_length=128):\n",
    "        self.comments = comments\n",
    "        self.labels = labels\n",
    "        self.tokenizer = tokenizer\n",
    "        self.max_length = max_length\n",
    "        \n",
    "    def __len__(self):\n",
    "        return len(self.comments)\n",
    "    \n",
    "    def __getitem__(self, idx):\n",
    "        comment = str(self.comments[idx])\n",
    "        label = self.labels[idx]\n",
    "        encoding = self.tokenizer(\n",
    "            comment,\n",
    "            max_length=self.max_length,\n",
    "            padding='max_length',\n",
    "            truncation=True,\n",
    "            return_tensors='pt'\n",
    "        )\n",
    "        item = {\n",
    "            'input_ids': encoding['input_ids'].squeeze(0),\n",
    "            'attention_mask': encoding['attention_mask'].squeeze(0),\n",
    "            'labels': torch.tensor(label, dtype=torch.long)\n",
    "        }\n",
    "        return item\n",
    "\n",
    "# Prepare dataloaders\n",
    "train_dataset = BanglaCommentDataset(df_train['Comment'].tolist(), df_train['Category'].tolist(), tokenizer)\n",
    "train_dataloader = DataLoader(train_dataset, batch_size=16, shuffle=True)\n",
    "\n",
    "# Model, loss, optimizer setup\n",
    "model.to(device)\n",
    "criterion = CrossEntropyLoss()\n",
    "optimizer = AdamW(model.parameters(), lr=5e-5)\n",
    "scaler = amp.GradScaler()  # Initialize GradScaler for mixed precision\n",
    "\n",
    "model.train()\n",
    "num_epochs = 3\n",
    "\n",
    "# Reset peak GPU memory tracking\n",
    "if torch.cuda.is_available():\n",
    "    torch.cuda.reset_max_memory_allocated()\n",
    "\n",
    "start_time = time.time()\n",
    "\n",
    "for epoch in range(num_epochs):\n",
    "    total_loss = 0\n",
    "    for batch in train_dataloader:\n",
    "        input_ids = batch['input_ids'].to(device)\n",
    "        attention_mask = batch['attention_mask'].to(device)\n",
    "        labels = batch['labels'].to(device)\n",
    "\n",
    "        optimizer.zero_grad()\n",
    "\n",
    "        with amp.autocast():  # Mixed precision forward pass\n",
    "            outputs = model(input_ids=input_ids, attention_mask=attention_mask)\n",
    "            logits = outputs.logits\n",
    "            loss = criterion(logits, labels)\n",
    "\n",
    "        scaler.scale(loss).backward()  # Scaled backward pass\n",
    "        scaler.step(optimizer)         # Optimizer step with scaled gradients\n",
    "        scaler.update()                # Update scaler for next iteration\n",
    "\n",
    "        total_loss += loss.item()\n",
    "\n",
    "    avg_loss = total_loss / len(train_dataloader)\n",
    "    print(f\"Epoch {epoch+1}/{num_epochs}, Loss: {avg_loss:.4f}\")\n",
    "\n",
    "end_time = time.time()\n",
    "total_time = end_time - start_time\n",
    "\n",
    "max_memory = torch.cuda.max_memory_allocated() / 1e9  # Convert bytes to GB if using GPU\n",
    "\n",
    "print(\"With AMP: \")\n",
    "print(f\"\\nTotal training time: {total_time:.2f} seconds\")\n",
    "if torch.cuda.is_available():\n",
    "    print(f\"Maximum GPU memory allocated: {max_memory:.4f} GB\")\n",
    "else:\n",
    "    print(\"GPU not available, cannot measure GPU memory usage.\")\n"
   ]
  },
  {
   "cell_type": "code",
   "execution_count": 19,
   "metadata": {},
   "outputs": [],
   "source": [
    "from sklearn.metrics import accuracy_score, f1_score, roc_auc_score\n",
    "\n",
    "def predict_labels(text):\n",
    "    train_encodings = tokenizer(text, truncation=True, max_length=128,\n",
    "        padding='max_length', return_tensors = 'pt')\n",
    "    input_ids = train_encodings['input_ids'].to(device)\n",
    "    attention_mask = train_encodings['attention_mask'].to(device)\n",
    "\n",
    "    # Set the model to evaluation mode\n",
    "    model.eval()\n",
    "\n",
    "    # Disable gradient calculation\n",
    "    with torch.no_grad():\n",
    "        outputs = model(input_ids, attention_mask=attention_mask)\n",
    "\n",
    "    logits = outputs.logits\n",
    "    probabilities = torch.softmax(logits, dim=1)\n",
    "    predicted_class = torch.argmax(probabilities, dim=1)\n",
    "    \n",
    "\n",
    "    return predicted_class.item(), probabilities[:,1].item()"
   ]
  },
  {
   "cell_type": "code",
   "execution_count": 20,
   "metadata": {},
   "outputs": [
    {
     "data": {
      "application/vnd.jupyter.widget-view+json": {
       "model_id": "c4a0d1c646ff4be7bdc79ee007850b61",
       "version_major": 2,
       "version_minor": 0
      },
      "text/plain": [
       "  0%|          | 0/2010 [00:00<?, ?it/s]"
      ]
     },
     "metadata": {},
     "output_type": "display_data"
    },
    {
     "name": "stdout",
     "output_type": "stream",
     "text": [
      "Accuracy: 0.7134328358208956\n"
     ]
    }
   ],
   "source": [
    "predicted_labels = []\n",
    "predicted_probs = []\n",
    "for text in tqdm(test_texts):\n",
    "    predicted_label, prob = predict_labels(text)\n",
    "    predicted_labels.append(predicted_label)\n",
    "    predicted_probs.append(prob)\n",
    "\n",
    "# Calculate accuracy and F1 score\n",
    "accuracy = accuracy_score(test_labels, predicted_labels)\n",
    "# f1 = f1_score(test_labels, predicted_labels)\n",
    "# roc_auc = roc_auc_score(test_labels, predicted_probs)\n",
    "\n",
    "print('Accuracy:', accuracy)\n",
    "# print('F1 Score:', f1)\n",
    "# print('ROC-AUC:', roc_auc)"
   ]
  },
  {
   "cell_type": "code",
   "execution_count": 21,
   "metadata": {},
   "outputs": [
    {
     "name": "stdout",
     "output_type": "stream",
     "text": [
      "Accuracy: 0.7134328358208956\n"
     ]
    }
   ],
   "source": [
    "print('Accuracy:', accuracy)"
   ]
  },
  {
   "cell_type": "code",
   "execution_count": 22,
   "metadata": {},
   "outputs": [
    {
     "name": "stdout",
     "output_type": "stream",
     "text": [
      "\n",
      "The Classification Report is as follows\n",
      "\n",
      "              precision    recall  f1-score   support\n",
      "\n",
      "           0     0.8157    0.7917    0.8035      1157\n",
      "           1     0.4595    0.2656    0.3366       128\n",
      "           2     0.6944    0.6329    0.6623       158\n",
      "           3     0.6016    0.7430    0.6649       498\n",
      "           4     0.2593    0.2029    0.2276        69\n",
      "\n",
      "    accuracy                         0.7134      2010\n",
      "   macro avg     0.5661    0.5272    0.5390      2010\n",
      "weighted avg     0.7113    0.7134    0.7086      2010\n",
      "\n"
     ]
    }
   ],
   "source": [
    "from sklearn.metrics import roc_auc_score, classification_report\n",
    "\n",
    "print('\\nThe Classification Report is as follows\\n')\n",
    "print(classification_report(test_labels, predicted_labels, digits = 4))"
   ]
  }
 ],
 "metadata": {
  "kernelspec": {
   "display_name": "base",
   "language": "python",
   "name": "python3"
  },
  "language_info": {
   "codemirror_mode": {
    "name": "ipython",
    "version": 3
   },
   "file_extension": ".py",
   "mimetype": "text/x-python",
   "name": "python",
   "nbconvert_exporter": "python",
   "pygments_lexer": "ipython3",
   "version": "3.12.7"
  }
 },
 "nbformat": 4,
 "nbformat_minor": 4
}
